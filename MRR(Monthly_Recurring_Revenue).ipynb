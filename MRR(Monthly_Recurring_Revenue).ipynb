{
  "nbformat": 4,
  "nbformat_minor": 0,
  "metadata": {
    "colab": {
      "name": "MRR(Monthly Recurring Revenue).ipynb",
      "provenance": [],
      "collapsed_sections": [],
      "authorship_tag": "ABX9TyM4VR7WmvuqmFCyckyriYh0",
      "include_colab_link": true
    },
    "kernelspec": {
      "name": "python3",
      "display_name": "Python 3"
    },
    "language_info": {
      "name": "python"
    },
    "gpuClass": "standard"
  },
  "cells": [
    {
      "cell_type": "markdown",
      "metadata": {
        "id": "view-in-github",
        "colab_type": "text"
      },
      "source": [
        "<a href=\"https://colab.research.google.com/github/mwithgod3952/TIL/blob/main/MRR(Monthly_Recurring_Revenue).ipynb\" target=\"_parent\"><img src=\"https://colab.research.google.com/assets/colab-badge.svg\" alt=\"Open In Colab\"/></a>"
      ]
    },
    {
      "cell_type": "markdown",
      "source": [
        "    - MRR(Monthly Recurring Renevue)는 월간 반복 매출, 월간 구독 형태의 서비스를 제공하는 경우 비지니스의 성장을 측정하는 기본 지표이다.\n",
        "    연간 구독 서비스를 제공하고 있는 경우는 해당 금액을 12로 나누는 경우가 많다.\n",
        "\n"
      ],
      "metadata": {
        "id": "n_1ITtbv77lE"
      }
    },
    {
      "cell_type": "code",
      "execution_count": null,
      "metadata": {
        "id": "HhPqWxt37XeC"
      },
      "outputs": [],
      "source": [
        ""
      ]
    }
  ]
}