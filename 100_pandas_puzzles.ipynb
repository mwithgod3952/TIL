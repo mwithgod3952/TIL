{
  "cells": [
    {
      "cell_type": "markdown",
      "metadata": {
        "id": "view-in-github",
        "colab_type": "text"
      },
      "source": [
        "<a href=\"https://colab.research.google.com/github/mwithgod3952/TIL/blob/main/100_pandas_puzzles.ipynb\" target=\"_parent\"><img src=\"https://colab.research.google.com/assets/colab-badge.svg\" alt=\"Open In Colab\"/></a>"
      ]
    },
    {
      "cell_type": "markdown",
      "metadata": {
        "id": "66dmVUpZZ2jE"
      },
      "source": [
        "# <font color = 'crimeson'><i>- 100 pandas puzzles</i>\n",
        "\n",
        "<font size=2>Inspired by [100 Numpy exerises](https://github.com/rougier/numpy-100), here are 100* short puzzles for testing your knowledge of [pandas'](http://pandas.pydata.org/) power.\n",
        "\n",
        "<font size=2>Since pandas is a large library with many different specialist features and functions, these excercises focus mainly on the fundamentals of manipulating data (indexing, grouping, aggregating, cleaning), making use of the core DataFrame and Series objects.\n",
        "\n",
        "<font size=2>Many of the excerises here are stright-forward in that the solutions require no more than a few lines of code (in pandas or NumPy... don't go using pure Python or Cython!). Choosing the right methods and following best practices is the underlying goal.\n",
        "\n",
        "<font size=2>The exercises are loosely divided in sections. Each section has a difficulty rating; these ratings are subjective, of course, but should be a seen as a rough guide as to how inventive the required solution is.\n",
        "\n",
        "<font size=2>If you're just starting out with pandas and you are looking for some other resources, the official documentation  is very extensive. In particular, some good places get a broader overview of pandas are...\n",
        "\n",
        "<font size=2>- [10 minutes to pandas](http://pandas.pydata.org/pandas-docs/stable/10min.html)\n",
        "\n",
        "<font size=2>- [pandas basics](http://pandas.pydata.org/pandas-docs/stable/basics.html)\n",
        "\n",
        "<font size=2>- [tutorials](http://pandas.pydata.org/pandas-docs/stable/tutorials.html)\n",
        "\n",
        "<font size=2>- [cookbook and idioms](http://pandas.pydata.org/pandas-docs/stable/cookbook.html#cookbook)\n",
        "\n",
        "<font size=2>Enjoy the puzzles!\n",
        "\n",
        "<font size=2>\\* *the list of exercises is not yet complete! Pull requests or suggestions for additional exercises, corrections and improvements are welcomed.*"
      ]
    },
    {
      "cell_type": "markdown",
      "metadata": {
        "id": "x7LchaXyZ2jI"
      },
      "source": [
        "## Importing pandas\n",
        "\n",
        "### Getting started and checking your pandas setup\n",
        "\n",
        "<font size=2>Difficulty: *easy*\n",
        "\n",
        "<font size=2>**1.** Import pandas under the alias `pd`."
      ]
    },
    {
      "cell_type": "code",
      "execution_count": 11,
      "metadata": {
        "collapsed": true,
        "id": "miBi0zPNZ2jJ"
      },
      "outputs": [],
      "source": [
        "import pandas as pd\n",
        "import warnings; warnings.filterwarnings('ignore')"
      ]
    },
    {
      "cell_type": "markdown",
      "metadata": {
        "id": "l4dy5mMmZ2jJ"
      },
      "source": [
        "<font size=2>**2.** Print the version of pandas that has been imported."
      ]
    },
    {
      "cell_type": "code",
      "execution_count": 7,
      "metadata": {
        "collapsed": true,
        "id": "X4rogpuFZ2jJ",
        "colab": {
          "base_uri": "https://localhost:8080/"
        },
        "outputId": "ebe9cc30-b806-43fc-9361-f22de3a169e0"
      },
      "outputs": [
        {
          "output_type": "stream",
          "name": "stdout",
          "text": [
            "2.0.3\n"
          ]
        }
      ],
      "source": [
        "print(pd.__version__)"
      ]
    },
    {
      "cell_type": "markdown",
      "metadata": {
        "id": "-7DWP1kLZ2jK"
      },
      "source": [
        "<font size=2>**3.** Print out all the *version* information of the libraries that are required by the pandas library."
      ]
    },
    {
      "cell_type": "code",
      "execution_count": 12,
      "metadata": {
        "collapsed": true,
        "id": "4iLQo2IwZ2jK",
        "colab": {
          "base_uri": "https://localhost:8080/"
        },
        "outputId": "3bec6876-0594-4bff-9776-3eee085fa9b4"
      },
      "outputs": [
        {
          "output_type": "stream",
          "name": "stdout",
          "text": [
            "\n",
            "INSTALLED VERSIONS\n",
            "------------------\n",
            "commit           : 0f437949513225922d851e9581723d82120684a6\n",
            "python           : 3.10.12.final.0\n",
            "python-bits      : 64\n",
            "OS               : Linux\n",
            "OS-release       : 6.1.85+\n",
            "Version          : #1 SMP PREEMPT_DYNAMIC Sun Apr 28 14:29:16 UTC 2024\n",
            "machine          : x86_64\n",
            "processor        : x86_64\n",
            "byteorder        : little\n",
            "LC_ALL           : en_US.UTF-8\n",
            "LANG             : en_US.UTF-8\n",
            "LOCALE           : en_US.UTF-8\n",
            "\n",
            "pandas           : 2.0.3\n",
            "numpy            : 1.25.2\n",
            "pytz             : 2023.4\n",
            "dateutil         : 2.8.2\n",
            "setuptools       : 67.7.2\n",
            "pip              : 23.1.2\n",
            "Cython           : 3.0.10\n",
            "pytest           : 7.4.4\n",
            "hypothesis       : None\n",
            "sphinx           : 5.0.2\n",
            "blosc            : None\n",
            "feather          : None\n",
            "xlsxwriter       : None\n",
            "lxml.etree       : 4.9.4\n",
            "html5lib         : 1.1\n",
            "pymysql          : None\n",
            "psycopg2         : 2.9.9\n",
            "jinja2           : 3.1.4\n",
            "IPython          : 7.34.0\n",
            "pandas_datareader: 0.10.0\n",
            "bs4              : 4.12.3\n",
            "bottleneck       : None\n",
            "brotli           : None\n",
            "fastparquet      : None\n",
            "fsspec           : 2023.6.0\n",
            "gcsfs            : 2023.6.0\n",
            "matplotlib       : 3.7.1\n",
            "numba            : 0.58.1\n",
            "numexpr          : 2.10.0\n",
            "odfpy            : None\n",
            "openpyxl         : 3.1.3\n",
            "pandas_gbq       : 0.19.2\n",
            "pyarrow          : 14.0.2\n",
            "pyreadstat       : None\n",
            "pyxlsb           : None\n",
            "s3fs             : None\n",
            "scipy            : 1.11.4\n",
            "snappy           : None\n",
            "sqlalchemy       : 2.0.30\n",
            "tables           : 3.8.0\n",
            "tabulate         : 0.9.0\n",
            "xarray           : 2023.7.0\n",
            "xlrd             : 2.0.1\n",
            "zstandard        : None\n",
            "tzdata           : 2024.1\n",
            "qtpy             : None\n",
            "pyqt5            : None\n",
            "None\n"
          ]
        }
      ],
      "source": [
        "print(pd.show_versions())"
      ]
    },
    {
      "cell_type": "markdown",
      "metadata": {
        "id": "YKanJNhhZ2jK"
      },
      "source": [
        "## DataFrame basics\n",
        "\n",
        "### A few of the fundamental routines for selecting, sorting, adding and aggregating data in DataFrames\n",
        "\n",
        "<font size=2>Difficulty: *easy*\n",
        "\n",
        "<font size=2>Note: remember to import numpy using:\n",
        "```python\n",
        "import numpy as np\n",
        "```\n",
        "\n",
        "Consider the following Python dictionary `data` and Python list `labels`:\n",
        "\n",
        "``` python\n",
        "data = {'animal': ['cat', 'cat', 'snake', 'dog', 'dog', 'cat', 'snake', 'cat', 'dog', 'dog'],\n",
        "        'age': [2.5, 3, 0.5, np.nan, 5, 2, 4.5, np.nan, 7, 3],\n",
        "        'visits': [1, 3, 2, 3, 2, 3, 1, 1, 2, 1],\n",
        "        'priority': ['yes', 'yes', 'no', 'yes', 'no', 'no', 'no', 'yes', 'no', 'no']}\n",
        "\n",
        "labels = ['a', 'b', 'c', 'd', 'e', 'f', 'g', 'h', 'i', 'j']\n",
        "```\n",
        "<font size=2>(This is just some meaningless data I made up with the theme of animals and trips to a vet.)\n",
        "\n",
        "<font size=2>**4.** Create a DataFrame `df` from this dictionary `data` which has the index `labels`."
      ]
    },
    {
      "cell_type": "code",
      "execution_count": 442,
      "metadata": {
        "collapsed": true,
        "id": "BLxyQQpkZ2jL"
      },
      "outputs": [],
      "source": [
        "import numpy as np\n",
        "\n",
        "data = {'animal': ['cat', 'cat', 'snake', 'dog', 'dog', 'cat', 'snake', 'cat', 'dog', 'dog'],\n",
        "        'age': [2.5, 3, 0.5, np.nan, 5, 2, 4.5, np.nan, 7, 3],\n",
        "        'visits': [1, 3, 2, 3, 2, 3, 1, 1, 2, 1],\n",
        "        'priority': ['yes', 'yes', 'no', 'yes', 'no', 'no', 'no', 'yes', 'no', 'no']}\n",
        "\n",
        "labels = ['a', 'b', 'c', 'd', 'e', 'f', 'g', 'h', 'i', 'j']\n",
        "\n",
        "df = pd.DataFrame(data, index=labels)# (complete this line of code)"
      ]
    },
    {
      "cell_type": "markdown",
      "metadata": {
        "id": "ZNJcTFMTZ2jM"
      },
      "source": [
        "<font size=2>**5.** Display a summary of the basic information about this DataFrame and its data (*hint: there is a single method that can be called on the DataFrame*)."
      ]
    },
    {
      "cell_type": "code",
      "execution_count": 443,
      "metadata": {
        "collapsed": true,
        "id": "Paw51V-tZ2jM",
        "colab": {
          "base_uri": "https://localhost:8080/"
        },
        "outputId": "5425aa7b-fa9f-40b6-d2b8-b8d1be4cf1be"
      },
      "outputs": [
        {
          "output_type": "stream",
          "name": "stdout",
          "text": [
            "<class 'pandas.core.frame.DataFrame'>\n",
            "Index: 10 entries, a to j\n",
            "Data columns (total 4 columns):\n",
            " #   Column    Non-Null Count  Dtype  \n",
            "---  ------    --------------  -----  \n",
            " 0   animal    10 non-null     object \n",
            " 1   age       8 non-null      float64\n",
            " 2   visits    10 non-null     int64  \n",
            " 3   priority  10 non-null     object \n",
            "dtypes: float64(1), int64(1), object(2)\n",
            "memory usage: 400.0+ bytes\n",
            "None\n"
          ]
        }
      ],
      "source": [
        "print(df.info())"
      ]
    },
    {
      "cell_type": "markdown",
      "metadata": {
        "id": "x66BXH5jZ2jM"
      },
      "source": [
        "<font size=2>**6.** Return the first 3 rows of the DataFrame `df`."
      ]
    },
    {
      "cell_type": "code",
      "execution_count": 444,
      "metadata": {
        "collapsed": true,
        "id": "HuXJ8n7_Z2jM",
        "colab": {
          "base_uri": "https://localhost:8080/"
        },
        "outputId": "1fea2c2b-5689-4ea9-8edf-623fb61f8b16"
      },
      "outputs": [
        {
          "output_type": "stream",
          "name": "stdout",
          "text": [
            "  animal  age  visits priority\n",
            "a    cat  2.5       1      yes\n",
            "b    cat  3.0       3      yes\n",
            "c  snake  0.5       2       no\n"
          ]
        }
      ],
      "source": [
        "print(df.head(3))"
      ]
    },
    {
      "cell_type": "markdown",
      "metadata": {
        "id": "br6HIKrpZ2jM"
      },
      "source": [
        "<font size=2>**7.** Select just the 'animal' and 'age' columns from the DataFrame `df`."
      ]
    },
    {
      "cell_type": "code",
      "execution_count": 445,
      "metadata": {
        "collapsed": true,
        "id": "9SgJfGSBZ2jN",
        "colab": {
          "base_uri": "https://localhost:8080/"
        },
        "outputId": "835a541f-8078-4cdb-9b01-62b6c2a36a48"
      },
      "outputs": [
        {
          "output_type": "stream",
          "name": "stdout",
          "text": [
            "  animal  age\n",
            "a    cat  2.5\n",
            "b    cat  3.0\n",
            "c  snake  0.5\n",
            "d    dog  NaN\n",
            "e    dog  5.0\n",
            "f    cat  2.0\n",
            "g  snake  4.5\n",
            "h    cat  NaN\n",
            "i    dog  7.0\n",
            "j    dog  3.0\n"
          ]
        }
      ],
      "source": [
        "print(df.loc[:, ['animal', 'age']])"
      ]
    },
    {
      "cell_type": "markdown",
      "metadata": {
        "id": "Y3UVzlJhZ2jN"
      },
      "source": [
        "<font size=2>**8.** Select the data in rows `[3, 4, 8]` *and* in columns `['animal', 'age']`."
      ]
    },
    {
      "cell_type": "code",
      "execution_count": 446,
      "metadata": {
        "collapsed": true,
        "id": "lkHaAVDcZ2jN",
        "colab": {
          "base_uri": "https://localhost:8080/"
        },
        "outputId": "1b4efae8-42fc-4c98-e0ca-73debffb631e"
      },
      "outputs": [
        {
          "output_type": "stream",
          "name": "stdout",
          "text": [
            "  animal  age\n",
            "d    dog  NaN\n",
            "e    dog  5.0\n",
            "i    dog  7.0\n"
          ]
        }
      ],
      "source": [
        "df.loc[df.index[[3,4,8]], ['animal', 'age']]\n",
        "\n",
        "# --- or ---\n",
        "\n",
        "print(df.loc[['d','e','i'], ['animal', 'age']])"
      ]
    },
    {
      "cell_type": "markdown",
      "metadata": {
        "id": "fRYnHDAAZ2jN"
      },
      "source": [
        "<font size=2>**9.** Select only the rows where the number of visits is greater than 3."
      ]
    },
    {
      "cell_type": "code",
      "execution_count": 447,
      "metadata": {
        "collapsed": true,
        "id": "qqIIPDc2Z2jN",
        "colab": {
          "base_uri": "https://localhost:8080/"
        },
        "outputId": "b27537f1-fdc6-4b57-cd14-e595adfd74cf"
      },
      "outputs": [
        {
          "output_type": "stream",
          "name": "stdout",
          "text": [
            "  animal  age  visits priority\n",
            "b    cat  3.0       3      yes\n",
            "d    dog  NaN       3      yes\n",
            "f    cat  2.0       3       no\n"
          ]
        }
      ],
      "source": [
        "print(df[df.visits >= 3])"
      ]
    },
    {
      "cell_type": "markdown",
      "metadata": {
        "id": "-ZRc1D49Z2jN"
      },
      "source": [
        "<font size=2>**10.** Select the rows where the age is missing, i.e. it is `NaN`."
      ]
    },
    {
      "cell_type": "code",
      "execution_count": 448,
      "metadata": {
        "collapsed": true,
        "id": "0N4NXqL0Z2jN",
        "colab": {
          "base_uri": "https://localhost:8080/"
        },
        "outputId": "af3a0937-f2ce-4722-cf42-5df1c4c7823e"
      },
      "outputs": [
        {
          "output_type": "stream",
          "name": "stdout",
          "text": [
            "  animal  age  visits priority\n",
            "d    dog  NaN       3      yes\n",
            "h    cat  NaN       1      yes\n"
          ]
        }
      ],
      "source": [
        "print(df[df.age.isnull()])"
      ]
    },
    {
      "cell_type": "markdown",
      "metadata": {
        "id": "NqMXxORHZ2jN"
      },
      "source": [
        "<font size=2>**11.** Select the rows where the animal is a cat *and* the age is less than 3."
      ]
    },
    {
      "cell_type": "code",
      "execution_count": 449,
      "metadata": {
        "collapsed": true,
        "id": "IRXxapF3Z2jN",
        "colab": {
          "base_uri": "https://localhost:8080/"
        },
        "outputId": "9fe111dc-9d36-44b2-967c-b0d85cc76368"
      },
      "outputs": [
        {
          "output_type": "stream",
          "name": "stdout",
          "text": [
            "  animal  age  visits priority\n",
            "a    cat  2.5       1      yes\n",
            "f    cat  2.0       3       no\n"
          ]
        }
      ],
      "source": [
        "print(df[(df.animal=='cat') & (df.age<3)])"
      ]
    },
    {
      "cell_type": "markdown",
      "metadata": {
        "id": "l2jtWqYoZ2jO"
      },
      "source": [
        "<font size=2>**12.** Select the rows the age is between 2 and 4 (inclusive)."
      ]
    },
    {
      "cell_type": "code",
      "execution_count": 450,
      "metadata": {
        "collapsed": true,
        "id": "vJ81_06hZ2jO",
        "colab": {
          "base_uri": "https://localhost:8080/"
        },
        "outputId": "a671f998-e21e-42c0-9900-1afe69213ef1"
      },
      "outputs": [
        {
          "output_type": "stream",
          "name": "stdout",
          "text": [
            "  animal  age  visits priority\n",
            "a    cat  2.5       1      yes\n",
            "b    cat  3.0       3      yes\n",
            "f    cat  2.0       3       no\n",
            "j    dog  3.0       1       no\n"
          ]
        }
      ],
      "source": [
        "print(df[df.age.between(2,4)])"
      ]
    },
    {
      "cell_type": "markdown",
      "metadata": {
        "id": "Uh_NciD_Z2jO"
      },
      "source": [
        "<font size=2>**13.** Change the age in row 'f' to 1.5."
      ]
    },
    {
      "cell_type": "code",
      "execution_count": 451,
      "metadata": {
        "collapsed": true,
        "id": "WZ44QP8EZ2jO",
        "colab": {
          "base_uri": "https://localhost:8080/"
        },
        "outputId": "37059c6e-7a6d-4116-8dc3-2b18fae56b02"
      },
      "outputs": [
        {
          "output_type": "stream",
          "name": "stdout",
          "text": [
            "  animal  age  visits priority\n",
            "a    cat  2.5       1      yes\n",
            "b    cat  3.0       3      yes\n",
            "c  snake  0.5       2       no\n",
            "d    dog  NaN       3      yes\n",
            "e    dog  5.0       2       no\n",
            "f    cat  1.5       3       no\n",
            "g  snake  4.5       1       no\n",
            "h    cat  NaN       1      yes\n",
            "i    dog  7.0       2       no\n",
            "j    dog  3.0       1       no\n"
          ]
        }
      ],
      "source": [
        "df.loc['f', 'age'] = 1.5\n",
        "print(df)"
      ]
    },
    {
      "cell_type": "markdown",
      "metadata": {
        "id": "FO0RwvnoZ2jO"
      },
      "source": [
        "<font size=2>**14.** Calculate the sum of all visits in `df` (i.e. find the total number of visits)."
      ]
    },
    {
      "cell_type": "code",
      "execution_count": 65,
      "metadata": {
        "collapsed": true,
        "id": "waCZ7V1SZ2jO",
        "colab": {
          "base_uri": "https://localhost:8080/"
        },
        "outputId": "723a092a-16c5-49a2-9b78-0203b5009a25"
      },
      "outputs": [
        {
          "output_type": "execute_result",
          "data": {
            "text/plain": [
              "19"
            ]
          },
          "metadata": {},
          "execution_count": 65
        }
      ],
      "source": [
        "df.visits.sum()"
      ]
    },
    {
      "cell_type": "markdown",
      "metadata": {
        "id": "RVPF5MPVZ2jO"
      },
      "source": [
        "<font size=2>**15.** Calculate the mean age for each different animal in `df`."
      ]
    },
    {
      "cell_type": "code",
      "execution_count": 80,
      "metadata": {
        "collapsed": true,
        "id": "KppjRfiQZ2jO",
        "colab": {
          "base_uri": "https://localhost:8080/"
        },
        "outputId": "94c6555c-99e4-4418-e908-81414893d2d7"
      },
      "outputs": [
        {
          "output_type": "execute_result",
          "data": {
            "text/plain": [
              "animal\n",
              "cat      2.333333\n",
              "dog      5.000000\n",
              "snake    2.500000\n",
              "Name: age, dtype: float64"
            ]
          },
          "metadata": {},
          "execution_count": 80
        }
      ],
      "source": [
        "df.groupby('animal')['age'].mean()"
      ]
    },
    {
      "cell_type": "markdown",
      "metadata": {
        "id": "9g97FsnBZ2jO"
      },
      "source": [
        "<font size=2>**16.** Append a new row 'k' to `df` with your choice of values for each column. Then delete that row to return the original DataFrame."
      ]
    },
    {
      "cell_type": "code",
      "source": [
        "# @title <font size = 2> V1</font>\n",
        "\n",
        "df.loc['k'] = [5.5, 'dog', 'no', 2]\n",
        "df = df.drop('k')"
      ],
      "metadata": {
        "id": "iAe6nVMungjW"
      },
      "execution_count": null,
      "outputs": []
    },
    {
      "cell_type": "code",
      "execution_count": null,
      "metadata": {
        "collapsed": true,
        "id": "t8dcWY_TZ2jO"
      },
      "outputs": [],
      "source": [
        "# @title <font size = 2> V2</font>\n",
        "\n",
        "df = pd.concat([df, df.sample(n=1)], axis=0); print(df)\n",
        "df = df.iloc[:-1]; print(df)"
      ]
    },
    {
      "cell_type": "code",
      "source": [
        "# @title <font size = 2> V3</font>\n",
        "\n",
        "from itertools import compress\n",
        "selectors = [True]*len(df)\n",
        "selectors[np.where(df.index == 'g')[0][-1]] = False\n",
        "\n",
        "df = df[selectors]"
      ],
      "metadata": {
        "id": "GMnVtaianXcg"
      },
      "execution_count": null,
      "outputs": []
    },
    {
      "cell_type": "markdown",
      "metadata": {
        "id": "USVofFpJZ2jO"
      },
      "source": [
        "<font size=2>**17.** Count the number of each type of animal in `df`."
      ]
    },
    {
      "cell_type": "code",
      "execution_count": 119,
      "metadata": {
        "collapsed": true,
        "id": "uSoPBbPMZ2jO",
        "colab": {
          "base_uri": "https://localhost:8080/"
        },
        "outputId": "e38f3d06-9300-451f-89a9-a31b5592d5d9"
      },
      "outputs": [
        {
          "output_type": "execute_result",
          "data": {
            "text/plain": [
              "animal\n",
              "cat      4\n",
              "dog      4\n",
              "snake    3\n",
              "Name: count, dtype: int64"
            ]
          },
          "metadata": {},
          "execution_count": 119
        }
      ],
      "source": [
        "df['animal'].value_counts()"
      ]
    },
    {
      "cell_type": "markdown",
      "metadata": {
        "id": "g17mti0AZ2jO"
      },
      "source": [
        "<font size=2>**18.** Sort `df` first by the values in the 'age' in *decending* order, then by the value in the 'visits' column in *ascending* order (so row `i` should be first, and row `d` should be last)."
      ]
    },
    {
      "cell_type": "code",
      "execution_count": 125,
      "metadata": {
        "collapsed": true,
        "id": "onZfMw4PZ2jO",
        "colab": {
          "base_uri": "https://localhost:8080/",
          "height": 394
        },
        "outputId": "95ec3041-8eaa-41d8-c18f-80d9de418433"
      },
      "outputs": [
        {
          "output_type": "execute_result",
          "data": {
            "text/plain": [
              "  animal  age  visits priority\n",
              "i    dog  7.0       2       no\n",
              "e    dog  5.0       2       no\n",
              "g  snake  4.5       1       no\n",
              "g  snake  4.5       1       no\n",
              "j    dog  3.0       1       no\n",
              "b    cat  3.0       3      yes\n",
              "a    cat  2.5       1      yes\n",
              "f    cat  2.0       3       no\n",
              "c  snake  0.5       2       no\n",
              "h    cat  NaN       1      yes\n",
              "d    dog  NaN       3      yes"
            ],
            "text/html": [
              "\n",
              "  <div id=\"df-9cb74712-742d-452d-82d6-ac2cbd02e8e9\" class=\"colab-df-container\">\n",
              "    <div>\n",
              "<style scoped>\n",
              "    .dataframe tbody tr th:only-of-type {\n",
              "        vertical-align: middle;\n",
              "    }\n",
              "\n",
              "    .dataframe tbody tr th {\n",
              "        vertical-align: top;\n",
              "    }\n",
              "\n",
              "    .dataframe thead th {\n",
              "        text-align: right;\n",
              "    }\n",
              "</style>\n",
              "<table border=\"1\" class=\"dataframe\">\n",
              "  <thead>\n",
              "    <tr style=\"text-align: right;\">\n",
              "      <th></th>\n",
              "      <th>animal</th>\n",
              "      <th>age</th>\n",
              "      <th>visits</th>\n",
              "      <th>priority</th>\n",
              "    </tr>\n",
              "  </thead>\n",
              "  <tbody>\n",
              "    <tr>\n",
              "      <th>i</th>\n",
              "      <td>dog</td>\n",
              "      <td>7.0</td>\n",
              "      <td>2</td>\n",
              "      <td>no</td>\n",
              "    </tr>\n",
              "    <tr>\n",
              "      <th>e</th>\n",
              "      <td>dog</td>\n",
              "      <td>5.0</td>\n",
              "      <td>2</td>\n",
              "      <td>no</td>\n",
              "    </tr>\n",
              "    <tr>\n",
              "      <th>g</th>\n",
              "      <td>snake</td>\n",
              "      <td>4.5</td>\n",
              "      <td>1</td>\n",
              "      <td>no</td>\n",
              "    </tr>\n",
              "    <tr>\n",
              "      <th>g</th>\n",
              "      <td>snake</td>\n",
              "      <td>4.5</td>\n",
              "      <td>1</td>\n",
              "      <td>no</td>\n",
              "    </tr>\n",
              "    <tr>\n",
              "      <th>j</th>\n",
              "      <td>dog</td>\n",
              "      <td>3.0</td>\n",
              "      <td>1</td>\n",
              "      <td>no</td>\n",
              "    </tr>\n",
              "    <tr>\n",
              "      <th>b</th>\n",
              "      <td>cat</td>\n",
              "      <td>3.0</td>\n",
              "      <td>3</td>\n",
              "      <td>yes</td>\n",
              "    </tr>\n",
              "    <tr>\n",
              "      <th>a</th>\n",
              "      <td>cat</td>\n",
              "      <td>2.5</td>\n",
              "      <td>1</td>\n",
              "      <td>yes</td>\n",
              "    </tr>\n",
              "    <tr>\n",
              "      <th>f</th>\n",
              "      <td>cat</td>\n",
              "      <td>2.0</td>\n",
              "      <td>3</td>\n",
              "      <td>no</td>\n",
              "    </tr>\n",
              "    <tr>\n",
              "      <th>c</th>\n",
              "      <td>snake</td>\n",
              "      <td>0.5</td>\n",
              "      <td>2</td>\n",
              "      <td>no</td>\n",
              "    </tr>\n",
              "    <tr>\n",
              "      <th>h</th>\n",
              "      <td>cat</td>\n",
              "      <td>NaN</td>\n",
              "      <td>1</td>\n",
              "      <td>yes</td>\n",
              "    </tr>\n",
              "    <tr>\n",
              "      <th>d</th>\n",
              "      <td>dog</td>\n",
              "      <td>NaN</td>\n",
              "      <td>3</td>\n",
              "      <td>yes</td>\n",
              "    </tr>\n",
              "  </tbody>\n",
              "</table>\n",
              "</div>\n",
              "    <div class=\"colab-df-buttons\">\n",
              "\n",
              "  <div class=\"colab-df-container\">\n",
              "    <button class=\"colab-df-convert\" onclick=\"convertToInteractive('df-9cb74712-742d-452d-82d6-ac2cbd02e8e9')\"\n",
              "            title=\"Convert this dataframe to an interactive table.\"\n",
              "            style=\"display:none;\">\n",
              "\n",
              "  <svg xmlns=\"http://www.w3.org/2000/svg\" height=\"24px\" viewBox=\"0 -960 960 960\">\n",
              "    <path d=\"M120-120v-720h720v720H120Zm60-500h600v-160H180v160Zm220 220h160v-160H400v160Zm0 220h160v-160H400v160ZM180-400h160v-160H180v160Zm440 0h160v-160H620v160ZM180-180h160v-160H180v160Zm440 0h160v-160H620v160Z\"/>\n",
              "  </svg>\n",
              "    </button>\n",
              "\n",
              "  <style>\n",
              "    .colab-df-container {\n",
              "      display:flex;\n",
              "      gap: 12px;\n",
              "    }\n",
              "\n",
              "    .colab-df-convert {\n",
              "      background-color: #E8F0FE;\n",
              "      border: none;\n",
              "      border-radius: 50%;\n",
              "      cursor: pointer;\n",
              "      display: none;\n",
              "      fill: #1967D2;\n",
              "      height: 32px;\n",
              "      padding: 0 0 0 0;\n",
              "      width: 32px;\n",
              "    }\n",
              "\n",
              "    .colab-df-convert:hover {\n",
              "      background-color: #E2EBFA;\n",
              "      box-shadow: 0px 1px 2px rgba(60, 64, 67, 0.3), 0px 1px 3px 1px rgba(60, 64, 67, 0.15);\n",
              "      fill: #174EA6;\n",
              "    }\n",
              "\n",
              "    .colab-df-buttons div {\n",
              "      margin-bottom: 4px;\n",
              "    }\n",
              "\n",
              "    [theme=dark] .colab-df-convert {\n",
              "      background-color: #3B4455;\n",
              "      fill: #D2E3FC;\n",
              "    }\n",
              "\n",
              "    [theme=dark] .colab-df-convert:hover {\n",
              "      background-color: #434B5C;\n",
              "      box-shadow: 0px 1px 3px 1px rgba(0, 0, 0, 0.15);\n",
              "      filter: drop-shadow(0px 1px 2px rgba(0, 0, 0, 0.3));\n",
              "      fill: #FFFFFF;\n",
              "    }\n",
              "  </style>\n",
              "\n",
              "    <script>\n",
              "      const buttonEl =\n",
              "        document.querySelector('#df-9cb74712-742d-452d-82d6-ac2cbd02e8e9 button.colab-df-convert');\n",
              "      buttonEl.style.display =\n",
              "        google.colab.kernel.accessAllowed ? 'block' : 'none';\n",
              "\n",
              "      async function convertToInteractive(key) {\n",
              "        const element = document.querySelector('#df-9cb74712-742d-452d-82d6-ac2cbd02e8e9');\n",
              "        const dataTable =\n",
              "          await google.colab.kernel.invokeFunction('convertToInteractive',\n",
              "                                                    [key], {});\n",
              "        if (!dataTable) return;\n",
              "\n",
              "        const docLinkHtml = 'Like what you see? Visit the ' +\n",
              "          '<a target=\"_blank\" href=https://colab.research.google.com/notebooks/data_table.ipynb>data table notebook</a>'\n",
              "          + ' to learn more about interactive tables.';\n",
              "        element.innerHTML = '';\n",
              "        dataTable['output_type'] = 'display_data';\n",
              "        await google.colab.output.renderOutput(dataTable, element);\n",
              "        const docLink = document.createElement('div');\n",
              "        docLink.innerHTML = docLinkHtml;\n",
              "        element.appendChild(docLink);\n",
              "      }\n",
              "    </script>\n",
              "  </div>\n",
              "\n",
              "\n",
              "<div id=\"df-d46a5ab9-fe5a-4cd3-a6e5-4f00df529554\">\n",
              "  <button class=\"colab-df-quickchart\" onclick=\"quickchart('df-d46a5ab9-fe5a-4cd3-a6e5-4f00df529554')\"\n",
              "            title=\"Suggest charts\"\n",
              "            style=\"display:none;\">\n",
              "\n",
              "<svg xmlns=\"http://www.w3.org/2000/svg\" height=\"24px\"viewBox=\"0 0 24 24\"\n",
              "     width=\"24px\">\n",
              "    <g>\n",
              "        <path d=\"M19 3H5c-1.1 0-2 .9-2 2v14c0 1.1.9 2 2 2h14c1.1 0 2-.9 2-2V5c0-1.1-.9-2-2-2zM9 17H7v-7h2v7zm4 0h-2V7h2v10zm4 0h-2v-4h2v4z\"/>\n",
              "    </g>\n",
              "</svg>\n",
              "  </button>\n",
              "\n",
              "<style>\n",
              "  .colab-df-quickchart {\n",
              "      --bg-color: #E8F0FE;\n",
              "      --fill-color: #1967D2;\n",
              "      --hover-bg-color: #E2EBFA;\n",
              "      --hover-fill-color: #174EA6;\n",
              "      --disabled-fill-color: #AAA;\n",
              "      --disabled-bg-color: #DDD;\n",
              "  }\n",
              "\n",
              "  [theme=dark] .colab-df-quickchart {\n",
              "      --bg-color: #3B4455;\n",
              "      --fill-color: #D2E3FC;\n",
              "      --hover-bg-color: #434B5C;\n",
              "      --hover-fill-color: #FFFFFF;\n",
              "      --disabled-bg-color: #3B4455;\n",
              "      --disabled-fill-color: #666;\n",
              "  }\n",
              "\n",
              "  .colab-df-quickchart {\n",
              "    background-color: var(--bg-color);\n",
              "    border: none;\n",
              "    border-radius: 50%;\n",
              "    cursor: pointer;\n",
              "    display: none;\n",
              "    fill: var(--fill-color);\n",
              "    height: 32px;\n",
              "    padding: 0;\n",
              "    width: 32px;\n",
              "  }\n",
              "\n",
              "  .colab-df-quickchart:hover {\n",
              "    background-color: var(--hover-bg-color);\n",
              "    box-shadow: 0 1px 2px rgba(60, 64, 67, 0.3), 0 1px 3px 1px rgba(60, 64, 67, 0.15);\n",
              "    fill: var(--button-hover-fill-color);\n",
              "  }\n",
              "\n",
              "  .colab-df-quickchart-complete:disabled,\n",
              "  .colab-df-quickchart-complete:disabled:hover {\n",
              "    background-color: var(--disabled-bg-color);\n",
              "    fill: var(--disabled-fill-color);\n",
              "    box-shadow: none;\n",
              "  }\n",
              "\n",
              "  .colab-df-spinner {\n",
              "    border: 2px solid var(--fill-color);\n",
              "    border-color: transparent;\n",
              "    border-bottom-color: var(--fill-color);\n",
              "    animation:\n",
              "      spin 1s steps(1) infinite;\n",
              "  }\n",
              "\n",
              "  @keyframes spin {\n",
              "    0% {\n",
              "      border-color: transparent;\n",
              "      border-bottom-color: var(--fill-color);\n",
              "      border-left-color: var(--fill-color);\n",
              "    }\n",
              "    20% {\n",
              "      border-color: transparent;\n",
              "      border-left-color: var(--fill-color);\n",
              "      border-top-color: var(--fill-color);\n",
              "    }\n",
              "    30% {\n",
              "      border-color: transparent;\n",
              "      border-left-color: var(--fill-color);\n",
              "      border-top-color: var(--fill-color);\n",
              "      border-right-color: var(--fill-color);\n",
              "    }\n",
              "    40% {\n",
              "      border-color: transparent;\n",
              "      border-right-color: var(--fill-color);\n",
              "      border-top-color: var(--fill-color);\n",
              "    }\n",
              "    60% {\n",
              "      border-color: transparent;\n",
              "      border-right-color: var(--fill-color);\n",
              "    }\n",
              "    80% {\n",
              "      border-color: transparent;\n",
              "      border-right-color: var(--fill-color);\n",
              "      border-bottom-color: var(--fill-color);\n",
              "    }\n",
              "    90% {\n",
              "      border-color: transparent;\n",
              "      border-bottom-color: var(--fill-color);\n",
              "    }\n",
              "  }\n",
              "</style>\n",
              "\n",
              "  <script>\n",
              "    async function quickchart(key) {\n",
              "      const quickchartButtonEl =\n",
              "        document.querySelector('#' + key + ' button');\n",
              "      quickchartButtonEl.disabled = true;  // To prevent multiple clicks.\n",
              "      quickchartButtonEl.classList.add('colab-df-spinner');\n",
              "      try {\n",
              "        const charts = await google.colab.kernel.invokeFunction(\n",
              "            'suggestCharts', [key], {});\n",
              "      } catch (error) {\n",
              "        console.error('Error during call to suggestCharts:', error);\n",
              "      }\n",
              "      quickchartButtonEl.classList.remove('colab-df-spinner');\n",
              "      quickchartButtonEl.classList.add('colab-df-quickchart-complete');\n",
              "    }\n",
              "    (() => {\n",
              "      let quickchartButtonEl =\n",
              "        document.querySelector('#df-d46a5ab9-fe5a-4cd3-a6e5-4f00df529554 button');\n",
              "      quickchartButtonEl.style.display =\n",
              "        google.colab.kernel.accessAllowed ? 'block' : 'none';\n",
              "    })();\n",
              "  </script>\n",
              "</div>\n",
              "\n",
              "    </div>\n",
              "  </div>\n"
            ],
            "application/vnd.google.colaboratory.intrinsic+json": {
              "type": "dataframe",
              "summary": "{\n  \"name\": \"df\",\n  \"rows\": 11,\n  \"fields\": [\n    {\n      \"column\": \"animal\",\n      \"properties\": {\n        \"dtype\": \"category\",\n        \"num_unique_values\": 3,\n        \"samples\": [\n          \"dog\",\n          \"snake\",\n          \"cat\"\n        ],\n        \"semantic_type\": \"\",\n        \"description\": \"\"\n      }\n    },\n    {\n      \"column\": \"age\",\n      \"properties\": {\n        \"dtype\": \"number\",\n        \"std\": 1.9112241568632857,\n        \"min\": 0.5,\n        \"max\": 7.0,\n        \"num_unique_values\": 7,\n        \"samples\": [\n          7.0,\n          5.0,\n          2.0\n        ],\n        \"semantic_type\": \"\",\n        \"description\": \"\"\n      }\n    },\n    {\n      \"column\": \"visits\",\n      \"properties\": {\n        \"dtype\": \"number\",\n        \"std\": 0,\n        \"min\": 1,\n        \"max\": 3,\n        \"num_unique_values\": 3,\n        \"samples\": [\n          2,\n          1,\n          3\n        ],\n        \"semantic_type\": \"\",\n        \"description\": \"\"\n      }\n    },\n    {\n      \"column\": \"priority\",\n      \"properties\": {\n        \"dtype\": \"category\",\n        \"num_unique_values\": 2,\n        \"samples\": [\n          \"yes\",\n          \"no\"\n        ],\n        \"semantic_type\": \"\",\n        \"description\": \"\"\n      }\n    }\n  ]\n}"
            }
          },
          "metadata": {},
          "execution_count": 125
        }
      ],
      "source": [
        "df.sort_values(by=['age', 'visits'], ascending=[False, True])"
      ]
    },
    {
      "cell_type": "markdown",
      "metadata": {
        "id": "YGBQt8tUZ2jO"
      },
      "source": [
        "<font size=2>**19.** The 'priority' column contains the values 'yes' and 'no'. Replace this column with a column of boolean values: 'yes' should be `True` and 'no' should be `False`."
      ]
    },
    {
      "cell_type": "code",
      "source": [
        "df['priority'] = df['priority'].map({'yes':True,'no':False})"
      ],
      "metadata": {
        "id": "7pY-hZBZpuyS"
      },
      "execution_count": 134,
      "outputs": []
    },
    {
      "cell_type": "code",
      "execution_count": 128,
      "metadata": {
        "collapsed": true,
        "id": "1i1fxbvHZ2jP"
      },
      "outputs": [],
      "source": [
        "df.loc[df['priority'] == 'yes', 'priority'], df.loc[df['priority'] == 'no', 'priority'] = True, False"
      ]
    },
    {
      "cell_type": "markdown",
      "metadata": {
        "id": "HeWGGjHFZ2jV"
      },
      "source": [
        "<font size=2>**20.** In the 'animal' column, change the 'snake' entries to 'python'."
      ]
    },
    {
      "cell_type": "code",
      "execution_count": 138,
      "metadata": {
        "collapsed": true,
        "id": "GT1qAwRLZ2jV"
      },
      "outputs": [],
      "source": [
        "df['animal'] = df['animal'].replace('snake', 'python')"
      ]
    },
    {
      "cell_type": "markdown",
      "metadata": {
        "id": "20aM7aa6Z2jV"
      },
      "source": [
        "<font size=2>**21.** For each animal type and each number of visits, find the mean age. In other words, each row is an animal, each column is a number of visits and the values are the mean ages (*hint: use a pivot table*)."
      ]
    },
    {
      "cell_type": "code",
      "execution_count": 140,
      "metadata": {
        "collapsed": true,
        "id": "dHBgEz5xZ2jV",
        "colab": {
          "base_uri": "https://localhost:8080/"
        },
        "outputId": "dc29da7a-298c-49af-8553-1da91217c02c"
      },
      "outputs": [
        {
          "output_type": "execute_result",
          "data": {
            "text/plain": [
              "animal  visits\n",
              "cat     1         2.5\n",
              "        3         2.5\n",
              "dog     1         3.0\n",
              "        2         6.0\n",
              "        3         NaN\n",
              "python  1         4.5\n",
              "        2         0.5\n",
              "Name: age, dtype: float64"
            ]
          },
          "metadata": {},
          "execution_count": 140
        }
      ],
      "source": [
        "df.groupby(['animal','visits'])['age'].mean()"
      ]
    },
    {
      "cell_type": "code",
      "source": [
        "df.pivot_table(index='animal', columns='visits', values='age', aggfunc='mean')"
      ],
      "metadata": {
        "id": "h31r_QRsrSG4"
      },
      "execution_count": null,
      "outputs": []
    },
    {
      "cell_type": "markdown",
      "metadata": {
        "id": "qSL54SK5Z2jV"
      },
      "source": [
        "## DataFrames: beyond the basics\n",
        "\n",
        "### Slightly trickier: you may need to combine two or more methods to get the right answer\n",
        "\n",
        "<font size=2>Difficulty: *medium*\n",
        "\n",
        "<font size=2>The previous section was tour through some basic but essential DataFrame operations. Below are some ways that you might need to cut your data, but for which there is no single \"out of the box\" method."
      ]
    },
    {
      "cell_type": "markdown",
      "metadata": {
        "id": "ykrgaNDHZ2jV"
      },
      "source": [
        "**22.** You have a DataFrame `df` with a column 'A' of integers. For example:\n",
        "```python\n",
        "df = pd.DataFrame({'A': [1, 2, 2, 3, 4, 5, 5, 5, 6, 7, 7]})\n",
        "```\n",
        "\n",
        "<font size=2>How do you filter out rows which contain the same integer as the row immediately above?\n",
        "\n",
        "<font size=2>You should be left with a column containing the following values:\n",
        "\n",
        "```python\n",
        "1, 2, 3, 4, 5, 6, 7\n",
        "```"
      ]
    },
    {
      "cell_type": "code",
      "execution_count": 154,
      "metadata": {
        "id": "IJrZwYoLZ2jW",
        "colab": {
          "base_uri": "https://localhost:8080/"
        },
        "outputId": "906a515a-31fa-47d8-e438-321d89885fdb"
      },
      "outputs": [
        {
          "output_type": "stream",
          "name": "stdout",
          "text": [
            "[1 2 3 4 5 6 7]\n"
          ]
        }
      ],
      "source": [
        "df = pd.DataFrame({'A': [1, 2, 2, 3, 4, 5, 5, 5, 6, 7, 7]})\n",
        "print(df.drop_duplicates(subset='A').A.values)"
      ]
    },
    {
      "cell_type": "markdown",
      "metadata": {
        "id": "iyyhZhm8Z2jW"
      },
      "source": [
        "<font size=2>**23.** Given a DataFrame of numeric values, say\n",
        "```python\n",
        "df = pd.DataFrame(np.random.random(size=(5, 3))) # a 5x3 frame of float values\n",
        "```\n",
        "\n",
        "<font size=2>how do you subtract the row mean from each element in the row?"
      ]
    },
    {
      "cell_type": "code",
      "source": [
        "df = pd.DataFrame(np.random.random(size=(5, 3)))\n",
        "df.sub(df.mean(axis=1), axis=0) # df.sub()와 같은 경우, 식별자의 영향을 받음"
      ],
      "metadata": {
        "id": "bTuyLfgG60hS"
      },
      "execution_count": null,
      "outputs": []
    },
    {
      "cell_type": "markdown",
      "metadata": {
        "id": "qW4oy1ogZ2jW"
      },
      "source": [
        "<font size=2>**24.** Suppose you have DataFrame with 10 columns of real numbers, for example:\n",
        "\n",
        "```python\n",
        "df = pd.DataFrame(np.random.random(size=(5, 10)), columns=list('abcdefghij'))\n",
        "```\n",
        "<font size=2>Which column of numbers has the smallest sum?  Return that column's label."
      ]
    },
    {
      "cell_type": "code",
      "execution_count": 199,
      "metadata": {
        "collapsed": true,
        "id": "LpEit8xYZ2jW",
        "colab": {
          "base_uri": "https://localhost:8080/"
        },
        "outputId": "843ffe84-acfb-4d99-e579-5ad7ccff2414"
      },
      "outputs": [
        {
          "output_type": "execute_result",
          "data": {
            "text/plain": [
              "('j', 1.9198822638454254)"
            ]
          },
          "metadata": {},
          "execution_count": 199
        }
      ],
      "source": [
        "df = pd.DataFrame(np.random.random(size=(5, 10)), columns=list('abcdefghij'))\n",
        "df.sum(axis=0).idxmin(), df.sum(axis=0).min()"
      ]
    },
    {
      "cell_type": "markdown",
      "metadata": {
        "id": "Ufakf70OZ2jW"
      },
      "source": [
        "<font size=2>**25.** How do you count how many unique rows a DataFrame has (i.e. ignore all rows that are duplicates)? As input, use a DataFrame of zeros and ones with 10 rows and 3 columns.\n",
        "\n",
        "```python\n",
        "df = pd.DataFrame(np.random.randint(0, 2, size=(10, 3)))\n",
        "```"
      ]
    },
    {
      "cell_type": "code",
      "execution_count": null,
      "metadata": {
        "collapsed": true,
        "id": "fiCCCajuZ2jW"
      },
      "outputs": [],
      "source": [
        "df = pd.DataFrame(np.random.randint(0, 2, size=(10, 3)))\n",
        "\n",
        "len(df) - df.duplicated(keep='first').sum()\n",
        "\n",
        "# --- or ---\n",
        "\n",
        "len(df.drop_duplicates(keep='first'))"
      ]
    },
    {
      "cell_type": "markdown",
      "source": [
        "<center><font size=3><b><u>The next three puzzles are slightly harder.</u></b></center>"
      ],
      "metadata": {
        "id": "NLyZzcZfg1W5"
      }
    },
    {
      "cell_type": "markdown",
      "metadata": {
        "id": "ioJdCYSVZ2jW"
      },
      "source": [
        "\n",
        "\n",
        "\n",
        "<font size=2>**26.** In the cell below, you have a DataFrame `df` that consists of 10 columns of floating-point numbers. Exactly 5 entries in each row are NaN values.\n",
        "\n",
        "<font size=2>For each row of the DataFrame, find the *column* which contains the *third* NaN value.\n",
        "\n",
        "<font size=2>You should return a Series of column labels: `e, c, d, h, d`"
      ]
    },
    {
      "cell_type": "code",
      "execution_count": 268,
      "metadata": {
        "id": "pvlfnyDwZ2jW",
        "colab": {
          "base_uri": "https://localhost:8080/"
        },
        "outputId": "13f334cf-0b4a-4ef5-de9e-c2571503f4f8"
      },
      "outputs": [
        {
          "output_type": "stream",
          "name": "stdout",
          "text": [
            "   a  b  c  d  e  f  g  h  i  j\n",
            "0  0  1  2  2  3  3  3  3  4  5\n",
            "1  1  2  3  3  3  4  5  5  5  5\n",
            "2  1  2  2  3  3  3  4  5  5  5\n",
            "3  0  1  2  2  2  2  2  3  4  5\n",
            "4  1  2  2  3  3  4  4  5  5  5\n",
            "\n",
            "0    e\n",
            "1    c\n",
            "2    d\n",
            "3    h\n",
            "4    d\n",
            "dtype: object\n"
          ]
        }
      ],
      "source": [
        "nan = np.nan\n",
        "\n",
        "data = [[0.04,  nan,  nan, 0.25,  nan, 0.43, 0.71, 0.51,  nan,  nan],\n",
        "        [ nan,  nan,  nan, 0.04, 0.76,  nan,  nan, 0.67, 0.76, 0.16],\n",
        "        [ nan,  nan, 0.5 ,  nan, 0.31, 0.4 ,  nan,  nan, 0.24, 0.01],\n",
        "        [0.49,  nan,  nan, 0.62, 0.73, 0.26, 0.85,  nan,  nan,  nan],\n",
        "        [ nan,  nan, 0.41,  nan, 0.05,  nan, 0.61,  nan, 0.48, 0.68]]\n",
        "\n",
        "columns = list('abcdefghij')\n",
        "\n",
        "df = pd.DataFrame(data, columns=columns)\n",
        "\n",
        "'''write a solution to the question here'''\n",
        "# for i in range(len(df)): print(df.columns[np.where(df.isnull().iloc[i])[0][2]])\n",
        "\n",
        "print(df.isnull().cumsum(axis=1), end='\\n\\n')\n",
        "print((df.isnull().cumsum(axis=1) == 3).idxmax(axis=1))"
      ]
    },
    {
      "cell_type": "markdown",
      "metadata": {
        "id": "ZfH04ENOZ2jW"
      },
      "source": [
        "<font size=2>**27.** A DataFrame has a column of groups 'grps' and and column of integer values 'vals':\n",
        "\n",
        "```python\n",
        "df = pd.DataFrame({'grps': list('aaabbcaabcccbbc'),\n",
        "                   'vals': [12,345,3,1,45,14,4,52,54,23,235,21,57,3,87]})\n",
        "```\n",
        "<font size=2>For each *group*, find the sum of the three greatest values. You should end up with the answer as follows:\n",
        "```\n",
        "grps\n",
        "a    409\n",
        "b    156\n",
        "c    345\n",
        "```"
      ]
    },
    {
      "cell_type": "code",
      "execution_count": 297,
      "metadata": {
        "collapsed": true,
        "id": "zMjrq9qZZ2jX",
        "colab": {
          "base_uri": "https://localhost:8080/"
        },
        "outputId": "d6c3c0db-81ab-44ce-8e1e-334a4e4b0a2d"
      },
      "outputs": [
        {
          "output_type": "execute_result",
          "data": {
            "text/plain": [
              "grps\n",
              "a    409\n",
              "b    156\n",
              "c    345\n",
              "Name: vals, dtype: int64"
            ]
          },
          "metadata": {},
          "execution_count": 297
        }
      ],
      "source": [
        "df = pd.DataFrame({'grps': list('aaabbcaabcccbbc'),\n",
        "                   'vals': [12,345,3,1,45,14,4,52,54,23,235,21,57,3,87]})\n",
        "\n",
        "# write a solution to the question here\n",
        "df.groupby('grps')['vals'].apply(lambda x: x.nlargest(3).sum())"
      ]
    },
    {
      "cell_type": "markdown",
      "metadata": {
        "id": "a60BbqYzZ2jX"
      },
      "source": [
        "<font size=2>**28.** The DataFrame `df` constructed below has two integer columns 'A' and 'B'. The values in 'A' are between 1 and 100 (inclusive).\n",
        "\n",
        "<font size=2>For each group of 10 consecutive integers in 'A' (i.e. `(0, 10]`, `(10, 20]`, ...), calculate the sum of the corresponding values in column 'B'.\n",
        "\n",
        "<font size=2>The answer should be a Series as follows:\n",
        "\n",
        "```\n",
        "A\n",
        "(0, 10]      635\n",
        "(10, 20]     360\n",
        "(20, 30]     315\n",
        "(30, 40]     306\n",
        "(40, 50]     750\n",
        "(50, 60]     284\n",
        "(60, 70]     424\n",
        "(70, 80]     526\n",
        "(80, 90]     835\n",
        "(90, 100]    852\n",
        "```"
      ]
    },
    {
      "cell_type": "code",
      "execution_count": null,
      "metadata": {
        "collapsed": true,
        "id": "UyakNRCBZ2jX"
      },
      "outputs": [],
      "source": [
        "df = pd.DataFrame(np.random.RandomState(8765).randint(1, 101, size=(100, 2)), columns = [\"A\", \"B\"])\n",
        "\n",
        "# write a solution to the question here\n",
        "df.groupby(pd.cut(df['A'], np.arange(0,101,10)))['B'].sum().values # pd.cut()은 '초과' '이하'로 범위를 생성함.\n",
        "\n",
        "# --- or ---\n",
        "\n",
        "grp = list(zip(*(range(0,100,10), range(10, 101,10))))\n",
        "tuple(map(lambda x: df[(x[0] < df['A']) & (df['A'] <= x[1])].B.sum(), grp))"
      ]
    },
    {
      "cell_type": "markdown",
      "metadata": {
        "id": "pC2yrp3nZ2jX"
      },
      "source": [
        "## DataFrames: harder problems\n",
        "\n",
        "### These might require a bit of thinking outside the box...\n",
        "\n",
        "<font size=2>...but all are solvable using just the usual pandas/NumPy methods (and so avoid using explicit `for` loops).\n",
        "\n",
        "<font size=2>Difficulty: *hard*"
      ]
    },
    {
      "cell_type": "markdown",
      "metadata": {
        "id": "LOcVN88bZ2jX"
      },
      "source": [
        "<font size=2>**29.** Consider a DataFrame `df` where there is an integer column 'X':\n",
        "```python\n",
        "df = pd.DataFrame({'X': [7, 2, 0, 3, 4, 2, 5, 0, 3, 4]})\n",
        "```\n",
        "<font size=2>For each value, count the difference back to the previous zero (or the start of the Series, whichever is closer). These values should therefore be\n",
        "\n",
        "```\n",
        "[1, 2, 0, 1, 2, 3, 4, 0, 1, 2]\n",
        "```\n",
        "\n",
        "<font size=2>Make this a new column 'Y'."
      ]
    },
    {
      "cell_type": "code",
      "execution_count": 386,
      "metadata": {
        "collapsed": true,
        "id": "N-_V4gtuZ2jX",
        "colab": {
          "base_uri": "https://localhost:8080/",
          "height": 363
        },
        "outputId": "0ba724ae-9ed6-4cec-9ce3-e3e3e0ece3c1"
      },
      "outputs": [
        {
          "output_type": "execute_result",
          "data": {
            "text/plain": [
              "   X  Y\n",
              "0  7  1\n",
              "1  2  2\n",
              "2  0  0\n",
              "3  3  1\n",
              "4  4  2\n",
              "5  2  3\n",
              "6  5  4\n",
              "7  0  0\n",
              "8  3  1\n",
              "9  4  2"
            ],
            "text/html": [
              "\n",
              "  <div id=\"df-ce99e0b1-ce12-432a-ab35-ed5758b33172\" class=\"colab-df-container\">\n",
              "    <div>\n",
              "<style scoped>\n",
              "    .dataframe tbody tr th:only-of-type {\n",
              "        vertical-align: middle;\n",
              "    }\n",
              "\n",
              "    .dataframe tbody tr th {\n",
              "        vertical-align: top;\n",
              "    }\n",
              "\n",
              "    .dataframe thead th {\n",
              "        text-align: right;\n",
              "    }\n",
              "</style>\n",
              "<table border=\"1\" class=\"dataframe\">\n",
              "  <thead>\n",
              "    <tr style=\"text-align: right;\">\n",
              "      <th></th>\n",
              "      <th>X</th>\n",
              "      <th>Y</th>\n",
              "    </tr>\n",
              "  </thead>\n",
              "  <tbody>\n",
              "    <tr>\n",
              "      <th>0</th>\n",
              "      <td>7</td>\n",
              "      <td>1</td>\n",
              "    </tr>\n",
              "    <tr>\n",
              "      <th>1</th>\n",
              "      <td>2</td>\n",
              "      <td>2</td>\n",
              "    </tr>\n",
              "    <tr>\n",
              "      <th>2</th>\n",
              "      <td>0</td>\n",
              "      <td>0</td>\n",
              "    </tr>\n",
              "    <tr>\n",
              "      <th>3</th>\n",
              "      <td>3</td>\n",
              "      <td>1</td>\n",
              "    </tr>\n",
              "    <tr>\n",
              "      <th>4</th>\n",
              "      <td>4</td>\n",
              "      <td>2</td>\n",
              "    </tr>\n",
              "    <tr>\n",
              "      <th>5</th>\n",
              "      <td>2</td>\n",
              "      <td>3</td>\n",
              "    </tr>\n",
              "    <tr>\n",
              "      <th>6</th>\n",
              "      <td>5</td>\n",
              "      <td>4</td>\n",
              "    </tr>\n",
              "    <tr>\n",
              "      <th>7</th>\n",
              "      <td>0</td>\n",
              "      <td>0</td>\n",
              "    </tr>\n",
              "    <tr>\n",
              "      <th>8</th>\n",
              "      <td>3</td>\n",
              "      <td>1</td>\n",
              "    </tr>\n",
              "    <tr>\n",
              "      <th>9</th>\n",
              "      <td>4</td>\n",
              "      <td>2</td>\n",
              "    </tr>\n",
              "  </tbody>\n",
              "</table>\n",
              "</div>\n",
              "    <div class=\"colab-df-buttons\">\n",
              "\n",
              "  <div class=\"colab-df-container\">\n",
              "    <button class=\"colab-df-convert\" onclick=\"convertToInteractive('df-ce99e0b1-ce12-432a-ab35-ed5758b33172')\"\n",
              "            title=\"Convert this dataframe to an interactive table.\"\n",
              "            style=\"display:none;\">\n",
              "\n",
              "  <svg xmlns=\"http://www.w3.org/2000/svg\" height=\"24px\" viewBox=\"0 -960 960 960\">\n",
              "    <path d=\"M120-120v-720h720v720H120Zm60-500h600v-160H180v160Zm220 220h160v-160H400v160Zm0 220h160v-160H400v160ZM180-400h160v-160H180v160Zm440 0h160v-160H620v160ZM180-180h160v-160H180v160Zm440 0h160v-160H620v160Z\"/>\n",
              "  </svg>\n",
              "    </button>\n",
              "\n",
              "  <style>\n",
              "    .colab-df-container {\n",
              "      display:flex;\n",
              "      gap: 12px;\n",
              "    }\n",
              "\n",
              "    .colab-df-convert {\n",
              "      background-color: #E8F0FE;\n",
              "      border: none;\n",
              "      border-radius: 50%;\n",
              "      cursor: pointer;\n",
              "      display: none;\n",
              "      fill: #1967D2;\n",
              "      height: 32px;\n",
              "      padding: 0 0 0 0;\n",
              "      width: 32px;\n",
              "    }\n",
              "\n",
              "    .colab-df-convert:hover {\n",
              "      background-color: #E2EBFA;\n",
              "      box-shadow: 0px 1px 2px rgba(60, 64, 67, 0.3), 0px 1px 3px 1px rgba(60, 64, 67, 0.15);\n",
              "      fill: #174EA6;\n",
              "    }\n",
              "\n",
              "    .colab-df-buttons div {\n",
              "      margin-bottom: 4px;\n",
              "    }\n",
              "\n",
              "    [theme=dark] .colab-df-convert {\n",
              "      background-color: #3B4455;\n",
              "      fill: #D2E3FC;\n",
              "    }\n",
              "\n",
              "    [theme=dark] .colab-df-convert:hover {\n",
              "      background-color: #434B5C;\n",
              "      box-shadow: 0px 1px 3px 1px rgba(0, 0, 0, 0.15);\n",
              "      filter: drop-shadow(0px 1px 2px rgba(0, 0, 0, 0.3));\n",
              "      fill: #FFFFFF;\n",
              "    }\n",
              "  </style>\n",
              "\n",
              "    <script>\n",
              "      const buttonEl =\n",
              "        document.querySelector('#df-ce99e0b1-ce12-432a-ab35-ed5758b33172 button.colab-df-convert');\n",
              "      buttonEl.style.display =\n",
              "        google.colab.kernel.accessAllowed ? 'block' : 'none';\n",
              "\n",
              "      async function convertToInteractive(key) {\n",
              "        const element = document.querySelector('#df-ce99e0b1-ce12-432a-ab35-ed5758b33172');\n",
              "        const dataTable =\n",
              "          await google.colab.kernel.invokeFunction('convertToInteractive',\n",
              "                                                    [key], {});\n",
              "        if (!dataTable) return;\n",
              "\n",
              "        const docLinkHtml = 'Like what you see? Visit the ' +\n",
              "          '<a target=\"_blank\" href=https://colab.research.google.com/notebooks/data_table.ipynb>data table notebook</a>'\n",
              "          + ' to learn more about interactive tables.';\n",
              "        element.innerHTML = '';\n",
              "        dataTable['output_type'] = 'display_data';\n",
              "        await google.colab.output.renderOutput(dataTable, element);\n",
              "        const docLink = document.createElement('div');\n",
              "        docLink.innerHTML = docLinkHtml;\n",
              "        element.appendChild(docLink);\n",
              "      }\n",
              "    </script>\n",
              "  </div>\n",
              "\n",
              "\n",
              "<div id=\"df-9092d134-da1c-4f67-b67a-3ddc77182f34\">\n",
              "  <button class=\"colab-df-quickchart\" onclick=\"quickchart('df-9092d134-da1c-4f67-b67a-3ddc77182f34')\"\n",
              "            title=\"Suggest charts\"\n",
              "            style=\"display:none;\">\n",
              "\n",
              "<svg xmlns=\"http://www.w3.org/2000/svg\" height=\"24px\"viewBox=\"0 0 24 24\"\n",
              "     width=\"24px\">\n",
              "    <g>\n",
              "        <path d=\"M19 3H5c-1.1 0-2 .9-2 2v14c0 1.1.9 2 2 2h14c1.1 0 2-.9 2-2V5c0-1.1-.9-2-2-2zM9 17H7v-7h2v7zm4 0h-2V7h2v10zm4 0h-2v-4h2v4z\"/>\n",
              "    </g>\n",
              "</svg>\n",
              "  </button>\n",
              "\n",
              "<style>\n",
              "  .colab-df-quickchart {\n",
              "      --bg-color: #E8F0FE;\n",
              "      --fill-color: #1967D2;\n",
              "      --hover-bg-color: #E2EBFA;\n",
              "      --hover-fill-color: #174EA6;\n",
              "      --disabled-fill-color: #AAA;\n",
              "      --disabled-bg-color: #DDD;\n",
              "  }\n",
              "\n",
              "  [theme=dark] .colab-df-quickchart {\n",
              "      --bg-color: #3B4455;\n",
              "      --fill-color: #D2E3FC;\n",
              "      --hover-bg-color: #434B5C;\n",
              "      --hover-fill-color: #FFFFFF;\n",
              "      --disabled-bg-color: #3B4455;\n",
              "      --disabled-fill-color: #666;\n",
              "  }\n",
              "\n",
              "  .colab-df-quickchart {\n",
              "    background-color: var(--bg-color);\n",
              "    border: none;\n",
              "    border-radius: 50%;\n",
              "    cursor: pointer;\n",
              "    display: none;\n",
              "    fill: var(--fill-color);\n",
              "    height: 32px;\n",
              "    padding: 0;\n",
              "    width: 32px;\n",
              "  }\n",
              "\n",
              "  .colab-df-quickchart:hover {\n",
              "    background-color: var(--hover-bg-color);\n",
              "    box-shadow: 0 1px 2px rgba(60, 64, 67, 0.3), 0 1px 3px 1px rgba(60, 64, 67, 0.15);\n",
              "    fill: var(--button-hover-fill-color);\n",
              "  }\n",
              "\n",
              "  .colab-df-quickchart-complete:disabled,\n",
              "  .colab-df-quickchart-complete:disabled:hover {\n",
              "    background-color: var(--disabled-bg-color);\n",
              "    fill: var(--disabled-fill-color);\n",
              "    box-shadow: none;\n",
              "  }\n",
              "\n",
              "  .colab-df-spinner {\n",
              "    border: 2px solid var(--fill-color);\n",
              "    border-color: transparent;\n",
              "    border-bottom-color: var(--fill-color);\n",
              "    animation:\n",
              "      spin 1s steps(1) infinite;\n",
              "  }\n",
              "\n",
              "  @keyframes spin {\n",
              "    0% {\n",
              "      border-color: transparent;\n",
              "      border-bottom-color: var(--fill-color);\n",
              "      border-left-color: var(--fill-color);\n",
              "    }\n",
              "    20% {\n",
              "      border-color: transparent;\n",
              "      border-left-color: var(--fill-color);\n",
              "      border-top-color: var(--fill-color);\n",
              "    }\n",
              "    30% {\n",
              "      border-color: transparent;\n",
              "      border-left-color: var(--fill-color);\n",
              "      border-top-color: var(--fill-color);\n",
              "      border-right-color: var(--fill-color);\n",
              "    }\n",
              "    40% {\n",
              "      border-color: transparent;\n",
              "      border-right-color: var(--fill-color);\n",
              "      border-top-color: var(--fill-color);\n",
              "    }\n",
              "    60% {\n",
              "      border-color: transparent;\n",
              "      border-right-color: var(--fill-color);\n",
              "    }\n",
              "    80% {\n",
              "      border-color: transparent;\n",
              "      border-right-color: var(--fill-color);\n",
              "      border-bottom-color: var(--fill-color);\n",
              "    }\n",
              "    90% {\n",
              "      border-color: transparent;\n",
              "      border-bottom-color: var(--fill-color);\n",
              "    }\n",
              "  }\n",
              "</style>\n",
              "\n",
              "  <script>\n",
              "    async function quickchart(key) {\n",
              "      const quickchartButtonEl =\n",
              "        document.querySelector('#' + key + ' button');\n",
              "      quickchartButtonEl.disabled = true;  // To prevent multiple clicks.\n",
              "      quickchartButtonEl.classList.add('colab-df-spinner');\n",
              "      try {\n",
              "        const charts = await google.colab.kernel.invokeFunction(\n",
              "            'suggestCharts', [key], {});\n",
              "      } catch (error) {\n",
              "        console.error('Error during call to suggestCharts:', error);\n",
              "      }\n",
              "      quickchartButtonEl.classList.remove('colab-df-spinner');\n",
              "      quickchartButtonEl.classList.add('colab-df-quickchart-complete');\n",
              "    }\n",
              "    (() => {\n",
              "      let quickchartButtonEl =\n",
              "        document.querySelector('#df-9092d134-da1c-4f67-b67a-3ddc77182f34 button');\n",
              "      quickchartButtonEl.style.display =\n",
              "        google.colab.kernel.accessAllowed ? 'block' : 'none';\n",
              "    })();\n",
              "  </script>\n",
              "</div>\n",
              "\n",
              "  <div id=\"id_9e82f2d4-37a9-4945-b8ae-ea534634dd27\">\n",
              "    <style>\n",
              "      .colab-df-generate {\n",
              "        background-color: #E8F0FE;\n",
              "        border: none;\n",
              "        border-radius: 50%;\n",
              "        cursor: pointer;\n",
              "        display: none;\n",
              "        fill: #1967D2;\n",
              "        height: 32px;\n",
              "        padding: 0 0 0 0;\n",
              "        width: 32px;\n",
              "      }\n",
              "\n",
              "      .colab-df-generate:hover {\n",
              "        background-color: #E2EBFA;\n",
              "        box-shadow: 0px 1px 2px rgba(60, 64, 67, 0.3), 0px 1px 3px 1px rgba(60, 64, 67, 0.15);\n",
              "        fill: #174EA6;\n",
              "      }\n",
              "\n",
              "      [theme=dark] .colab-df-generate {\n",
              "        background-color: #3B4455;\n",
              "        fill: #D2E3FC;\n",
              "      }\n",
              "\n",
              "      [theme=dark] .colab-df-generate:hover {\n",
              "        background-color: #434B5C;\n",
              "        box-shadow: 0px 1px 3px 1px rgba(0, 0, 0, 0.15);\n",
              "        filter: drop-shadow(0px 1px 2px rgba(0, 0, 0, 0.3));\n",
              "        fill: #FFFFFF;\n",
              "      }\n",
              "    </style>\n",
              "    <button class=\"colab-df-generate\" onclick=\"generateWithVariable('df')\"\n",
              "            title=\"Generate code using this dataframe.\"\n",
              "            style=\"display:none;\">\n",
              "\n",
              "  <svg xmlns=\"http://www.w3.org/2000/svg\" height=\"24px\"viewBox=\"0 0 24 24\"\n",
              "       width=\"24px\">\n",
              "    <path d=\"M7,19H8.4L18.45,9,17,7.55,7,17.6ZM5,21V16.75L18.45,3.32a2,2,0,0,1,2.83,0l1.4,1.43a1.91,1.91,0,0,1,.58,1.4,1.91,1.91,0,0,1-.58,1.4L9.25,21ZM18.45,9,17,7.55Zm-12,3A5.31,5.31,0,0,0,4.9,8.1,5.31,5.31,0,0,0,1,6.5,5.31,5.31,0,0,0,4.9,4.9,5.31,5.31,0,0,0,6.5,1,5.31,5.31,0,0,0,8.1,4.9,5.31,5.31,0,0,0,12,6.5,5.46,5.46,0,0,0,6.5,12Z\"/>\n",
              "  </svg>\n",
              "    </button>\n",
              "    <script>\n",
              "      (() => {\n",
              "      const buttonEl =\n",
              "        document.querySelector('#id_9e82f2d4-37a9-4945-b8ae-ea534634dd27 button.colab-df-generate');\n",
              "      buttonEl.style.display =\n",
              "        google.colab.kernel.accessAllowed ? 'block' : 'none';\n",
              "\n",
              "      buttonEl.onclick = () => {\n",
              "        google.colab.notebook.generateWithVariable('df');\n",
              "      }\n",
              "      })();\n",
              "    </script>\n",
              "  </div>\n",
              "\n",
              "    </div>\n",
              "  </div>\n"
            ],
            "application/vnd.google.colaboratory.intrinsic+json": {
              "type": "dataframe",
              "variable_name": "df",
              "summary": "{\n  \"name\": \"df\",\n  \"rows\": 10,\n  \"fields\": [\n    {\n      \"column\": \"X\",\n      \"properties\": {\n        \"dtype\": \"number\",\n        \"std\": 2,\n        \"min\": 0,\n        \"max\": 7,\n        \"num_unique_values\": 6,\n        \"samples\": [\n          7,\n          2,\n          5\n        ],\n        \"semantic_type\": \"\",\n        \"description\": \"\"\n      }\n    },\n    {\n      \"column\": \"Y\",\n      \"properties\": {\n        \"dtype\": \"number\",\n        \"std\": 1,\n        \"min\": 0,\n        \"max\": 4,\n        \"num_unique_values\": 5,\n        \"samples\": [\n          2,\n          4,\n          0\n        ],\n        \"semantic_type\": \"\",\n        \"description\": \"\"\n      }\n    }\n  ]\n}"
            }
          },
          "metadata": {},
          "execution_count": 386
        }
      ],
      "source": [
        "\"\"\"\n",
        "    * np.r_\n",
        "        - np.r_는 슬라이스 표기법을 사용하여 배열을 쉽게 결합하거나 차원을 변경할 수 있는 단축 함수입니다.\n",
        "        - 주로 배열을 연결(concatenate)하거나 차원을 변경할 때 사용되며, 특히 1차원 배열을 빠르게 결합할 때 유용합니다.\n",
        "        - np.r_는 실제 함수가 아니라 객체이며, 대괄호([])를 사용합니다\n",
        "\"\"\"\n",
        "\n",
        "df = pd.DataFrame({'X': [7, 2, 0, 3, 4, 2, 5, 0, 3, 4]})\n",
        "\n",
        "izero = np.r_[-1, (df == 0).values.nonzero()[0]]  # indices of zeros\n",
        "idx = np.arange(len(df))\n",
        "y = df['X'] != 0\n",
        "df['Y'] = idx - izero[np.searchsorted(izero - 1, idx) - 1]\n",
        "df"
      ]
    },
    {
      "cell_type": "code",
      "source": [
        "df = pd.DataFrame({'X': [7, 2, 0, 3, 4, 2, 5, 0, 3, 4]})\n",
        "\n",
        "\n",
        "x = (df.X != 0).cumsum()\n",
        "y = x != x.shift() # 배열의 값이 0인 경우 False.\n",
        "'''\n",
        "    y != y.shift() # 배열의 값이 0일 경우와 그 다음 값이 True / 더불어, shift 된 맨 처음 값이 True\n",
        "    y != y.shift().cumsum()\n",
        "                    # 1\n",
        "                      1\n",
        "                      2\n",
        "                      3\n",
        "                      3\n",
        "                      3\n",
        "                      3\n",
        "                      4\n",
        "                      5\n",
        "                      5\n",
        "'''\n",
        "df['Y'] = y.groupby((y != y.shift()).cumsum()).cumsum()\n",
        "df"
      ],
      "metadata": {
        "colab": {
          "base_uri": "https://localhost:8080/",
          "height": 363
        },
        "id": "EnKVpmwdYC29",
        "outputId": "9abd4099-5a6e-4dbc-8af4-fa0645656738"
      },
      "execution_count": 84,
      "outputs": [
        {
          "output_type": "execute_result",
          "data": {
            "text/plain": [
              "   X  Y\n",
              "0  7  1\n",
              "1  2  2\n",
              "2  0  0\n",
              "3  3  1\n",
              "4  4  2\n",
              "5  2  3\n",
              "6  5  4\n",
              "7  0  0\n",
              "8  3  1\n",
              "9  4  2"
            ],
            "text/html": [
              "\n",
              "  <div id=\"df-0a10600b-a685-4578-b6c9-cfcd56f88579\" class=\"colab-df-container\">\n",
              "    <div>\n",
              "<style scoped>\n",
              "    .dataframe tbody tr th:only-of-type {\n",
              "        vertical-align: middle;\n",
              "    }\n",
              "\n",
              "    .dataframe tbody tr th {\n",
              "        vertical-align: top;\n",
              "    }\n",
              "\n",
              "    .dataframe thead th {\n",
              "        text-align: right;\n",
              "    }\n",
              "</style>\n",
              "<table border=\"1\" class=\"dataframe\">\n",
              "  <thead>\n",
              "    <tr style=\"text-align: right;\">\n",
              "      <th></th>\n",
              "      <th>X</th>\n",
              "      <th>Y</th>\n",
              "    </tr>\n",
              "  </thead>\n",
              "  <tbody>\n",
              "    <tr>\n",
              "      <th>0</th>\n",
              "      <td>7</td>\n",
              "      <td>1</td>\n",
              "    </tr>\n",
              "    <tr>\n",
              "      <th>1</th>\n",
              "      <td>2</td>\n",
              "      <td>2</td>\n",
              "    </tr>\n",
              "    <tr>\n",
              "      <th>2</th>\n",
              "      <td>0</td>\n",
              "      <td>0</td>\n",
              "    </tr>\n",
              "    <tr>\n",
              "      <th>3</th>\n",
              "      <td>3</td>\n",
              "      <td>1</td>\n",
              "    </tr>\n",
              "    <tr>\n",
              "      <th>4</th>\n",
              "      <td>4</td>\n",
              "      <td>2</td>\n",
              "    </tr>\n",
              "    <tr>\n",
              "      <th>5</th>\n",
              "      <td>2</td>\n",
              "      <td>3</td>\n",
              "    </tr>\n",
              "    <tr>\n",
              "      <th>6</th>\n",
              "      <td>5</td>\n",
              "      <td>4</td>\n",
              "    </tr>\n",
              "    <tr>\n",
              "      <th>7</th>\n",
              "      <td>0</td>\n",
              "      <td>0</td>\n",
              "    </tr>\n",
              "    <tr>\n",
              "      <th>8</th>\n",
              "      <td>3</td>\n",
              "      <td>1</td>\n",
              "    </tr>\n",
              "    <tr>\n",
              "      <th>9</th>\n",
              "      <td>4</td>\n",
              "      <td>2</td>\n",
              "    </tr>\n",
              "  </tbody>\n",
              "</table>\n",
              "</div>\n",
              "    <div class=\"colab-df-buttons\">\n",
              "\n",
              "  <div class=\"colab-df-container\">\n",
              "    <button class=\"colab-df-convert\" onclick=\"convertToInteractive('df-0a10600b-a685-4578-b6c9-cfcd56f88579')\"\n",
              "            title=\"Convert this dataframe to an interactive table.\"\n",
              "            style=\"display:none;\">\n",
              "\n",
              "  <svg xmlns=\"http://www.w3.org/2000/svg\" height=\"24px\" viewBox=\"0 -960 960 960\">\n",
              "    <path d=\"M120-120v-720h720v720H120Zm60-500h600v-160H180v160Zm220 220h160v-160H400v160Zm0 220h160v-160H400v160ZM180-400h160v-160H180v160Zm440 0h160v-160H620v160ZM180-180h160v-160H180v160Zm440 0h160v-160H620v160Z\"/>\n",
              "  </svg>\n",
              "    </button>\n",
              "\n",
              "  <style>\n",
              "    .colab-df-container {\n",
              "      display:flex;\n",
              "      gap: 12px;\n",
              "    }\n",
              "\n",
              "    .colab-df-convert {\n",
              "      background-color: #E8F0FE;\n",
              "      border: none;\n",
              "      border-radius: 50%;\n",
              "      cursor: pointer;\n",
              "      display: none;\n",
              "      fill: #1967D2;\n",
              "      height: 32px;\n",
              "      padding: 0 0 0 0;\n",
              "      width: 32px;\n",
              "    }\n",
              "\n",
              "    .colab-df-convert:hover {\n",
              "      background-color: #E2EBFA;\n",
              "      box-shadow: 0px 1px 2px rgba(60, 64, 67, 0.3), 0px 1px 3px 1px rgba(60, 64, 67, 0.15);\n",
              "      fill: #174EA6;\n",
              "    }\n",
              "\n",
              "    .colab-df-buttons div {\n",
              "      margin-bottom: 4px;\n",
              "    }\n",
              "\n",
              "    [theme=dark] .colab-df-convert {\n",
              "      background-color: #3B4455;\n",
              "      fill: #D2E3FC;\n",
              "    }\n",
              "\n",
              "    [theme=dark] .colab-df-convert:hover {\n",
              "      background-color: #434B5C;\n",
              "      box-shadow: 0px 1px 3px 1px rgba(0, 0, 0, 0.15);\n",
              "      filter: drop-shadow(0px 1px 2px rgba(0, 0, 0, 0.3));\n",
              "      fill: #FFFFFF;\n",
              "    }\n",
              "  </style>\n",
              "\n",
              "    <script>\n",
              "      const buttonEl =\n",
              "        document.querySelector('#df-0a10600b-a685-4578-b6c9-cfcd56f88579 button.colab-df-convert');\n",
              "      buttonEl.style.display =\n",
              "        google.colab.kernel.accessAllowed ? 'block' : 'none';\n",
              "\n",
              "      async function convertToInteractive(key) {\n",
              "        const element = document.querySelector('#df-0a10600b-a685-4578-b6c9-cfcd56f88579');\n",
              "        const dataTable =\n",
              "          await google.colab.kernel.invokeFunction('convertToInteractive',\n",
              "                                                    [key], {});\n",
              "        if (!dataTable) return;\n",
              "\n",
              "        const docLinkHtml = 'Like what you see? Visit the ' +\n",
              "          '<a target=\"_blank\" href=https://colab.research.google.com/notebooks/data_table.ipynb>data table notebook</a>'\n",
              "          + ' to learn more about interactive tables.';\n",
              "        element.innerHTML = '';\n",
              "        dataTable['output_type'] = 'display_data';\n",
              "        await google.colab.output.renderOutput(dataTable, element);\n",
              "        const docLink = document.createElement('div');\n",
              "        docLink.innerHTML = docLinkHtml;\n",
              "        element.appendChild(docLink);\n",
              "      }\n",
              "    </script>\n",
              "  </div>\n",
              "\n",
              "\n",
              "<div id=\"df-145e2277-be5e-4946-8c60-d8076fc0a8bb\">\n",
              "  <button class=\"colab-df-quickchart\" onclick=\"quickchart('df-145e2277-be5e-4946-8c60-d8076fc0a8bb')\"\n",
              "            title=\"Suggest charts\"\n",
              "            style=\"display:none;\">\n",
              "\n",
              "<svg xmlns=\"http://www.w3.org/2000/svg\" height=\"24px\"viewBox=\"0 0 24 24\"\n",
              "     width=\"24px\">\n",
              "    <g>\n",
              "        <path d=\"M19 3H5c-1.1 0-2 .9-2 2v14c0 1.1.9 2 2 2h14c1.1 0 2-.9 2-2V5c0-1.1-.9-2-2-2zM9 17H7v-7h2v7zm4 0h-2V7h2v10zm4 0h-2v-4h2v4z\"/>\n",
              "    </g>\n",
              "</svg>\n",
              "  </button>\n",
              "\n",
              "<style>\n",
              "  .colab-df-quickchart {\n",
              "      --bg-color: #E8F0FE;\n",
              "      --fill-color: #1967D2;\n",
              "      --hover-bg-color: #E2EBFA;\n",
              "      --hover-fill-color: #174EA6;\n",
              "      --disabled-fill-color: #AAA;\n",
              "      --disabled-bg-color: #DDD;\n",
              "  }\n",
              "\n",
              "  [theme=dark] .colab-df-quickchart {\n",
              "      --bg-color: #3B4455;\n",
              "      --fill-color: #D2E3FC;\n",
              "      --hover-bg-color: #434B5C;\n",
              "      --hover-fill-color: #FFFFFF;\n",
              "      --disabled-bg-color: #3B4455;\n",
              "      --disabled-fill-color: #666;\n",
              "  }\n",
              "\n",
              "  .colab-df-quickchart {\n",
              "    background-color: var(--bg-color);\n",
              "    border: none;\n",
              "    border-radius: 50%;\n",
              "    cursor: pointer;\n",
              "    display: none;\n",
              "    fill: var(--fill-color);\n",
              "    height: 32px;\n",
              "    padding: 0;\n",
              "    width: 32px;\n",
              "  }\n",
              "\n",
              "  .colab-df-quickchart:hover {\n",
              "    background-color: var(--hover-bg-color);\n",
              "    box-shadow: 0 1px 2px rgba(60, 64, 67, 0.3), 0 1px 3px 1px rgba(60, 64, 67, 0.15);\n",
              "    fill: var(--button-hover-fill-color);\n",
              "  }\n",
              "\n",
              "  .colab-df-quickchart-complete:disabled,\n",
              "  .colab-df-quickchart-complete:disabled:hover {\n",
              "    background-color: var(--disabled-bg-color);\n",
              "    fill: var(--disabled-fill-color);\n",
              "    box-shadow: none;\n",
              "  }\n",
              "\n",
              "  .colab-df-spinner {\n",
              "    border: 2px solid var(--fill-color);\n",
              "    border-color: transparent;\n",
              "    border-bottom-color: var(--fill-color);\n",
              "    animation:\n",
              "      spin 1s steps(1) infinite;\n",
              "  }\n",
              "\n",
              "  @keyframes spin {\n",
              "    0% {\n",
              "      border-color: transparent;\n",
              "      border-bottom-color: var(--fill-color);\n",
              "      border-left-color: var(--fill-color);\n",
              "    }\n",
              "    20% {\n",
              "      border-color: transparent;\n",
              "      border-left-color: var(--fill-color);\n",
              "      border-top-color: var(--fill-color);\n",
              "    }\n",
              "    30% {\n",
              "      border-color: transparent;\n",
              "      border-left-color: var(--fill-color);\n",
              "      border-top-color: var(--fill-color);\n",
              "      border-right-color: var(--fill-color);\n",
              "    }\n",
              "    40% {\n",
              "      border-color: transparent;\n",
              "      border-right-color: var(--fill-color);\n",
              "      border-top-color: var(--fill-color);\n",
              "    }\n",
              "    60% {\n",
              "      border-color: transparent;\n",
              "      border-right-color: var(--fill-color);\n",
              "    }\n",
              "    80% {\n",
              "      border-color: transparent;\n",
              "      border-right-color: var(--fill-color);\n",
              "      border-bottom-color: var(--fill-color);\n",
              "    }\n",
              "    90% {\n",
              "      border-color: transparent;\n",
              "      border-bottom-color: var(--fill-color);\n",
              "    }\n",
              "  }\n",
              "</style>\n",
              "\n",
              "  <script>\n",
              "    async function quickchart(key) {\n",
              "      const quickchartButtonEl =\n",
              "        document.querySelector('#' + key + ' button');\n",
              "      quickchartButtonEl.disabled = true;  // To prevent multiple clicks.\n",
              "      quickchartButtonEl.classList.add('colab-df-spinner');\n",
              "      try {\n",
              "        const charts = await google.colab.kernel.invokeFunction(\n",
              "            'suggestCharts', [key], {});\n",
              "      } catch (error) {\n",
              "        console.error('Error during call to suggestCharts:', error);\n",
              "      }\n",
              "      quickchartButtonEl.classList.remove('colab-df-spinner');\n",
              "      quickchartButtonEl.classList.add('colab-df-quickchart-complete');\n",
              "    }\n",
              "    (() => {\n",
              "      let quickchartButtonEl =\n",
              "        document.querySelector('#df-145e2277-be5e-4946-8c60-d8076fc0a8bb button');\n",
              "      quickchartButtonEl.style.display =\n",
              "        google.colab.kernel.accessAllowed ? 'block' : 'none';\n",
              "    })();\n",
              "  </script>\n",
              "</div>\n",
              "\n",
              "  <div id=\"id_4a1c5b75-41f4-4f07-a707-11e3d2a2ec23\">\n",
              "    <style>\n",
              "      .colab-df-generate {\n",
              "        background-color: #E8F0FE;\n",
              "        border: none;\n",
              "        border-radius: 50%;\n",
              "        cursor: pointer;\n",
              "        display: none;\n",
              "        fill: #1967D2;\n",
              "        height: 32px;\n",
              "        padding: 0 0 0 0;\n",
              "        width: 32px;\n",
              "      }\n",
              "\n",
              "      .colab-df-generate:hover {\n",
              "        background-color: #E2EBFA;\n",
              "        box-shadow: 0px 1px 2px rgba(60, 64, 67, 0.3), 0px 1px 3px 1px rgba(60, 64, 67, 0.15);\n",
              "        fill: #174EA6;\n",
              "      }\n",
              "\n",
              "      [theme=dark] .colab-df-generate {\n",
              "        background-color: #3B4455;\n",
              "        fill: #D2E3FC;\n",
              "      }\n",
              "\n",
              "      [theme=dark] .colab-df-generate:hover {\n",
              "        background-color: #434B5C;\n",
              "        box-shadow: 0px 1px 3px 1px rgba(0, 0, 0, 0.15);\n",
              "        filter: drop-shadow(0px 1px 2px rgba(0, 0, 0, 0.3));\n",
              "        fill: #FFFFFF;\n",
              "      }\n",
              "    </style>\n",
              "    <button class=\"colab-df-generate\" onclick=\"generateWithVariable('df')\"\n",
              "            title=\"Generate code using this dataframe.\"\n",
              "            style=\"display:none;\">\n",
              "\n",
              "  <svg xmlns=\"http://www.w3.org/2000/svg\" height=\"24px\"viewBox=\"0 0 24 24\"\n",
              "       width=\"24px\">\n",
              "    <path d=\"M7,19H8.4L18.45,9,17,7.55,7,17.6ZM5,21V16.75L18.45,3.32a2,2,0,0,1,2.83,0l1.4,1.43a1.91,1.91,0,0,1,.58,1.4,1.91,1.91,0,0,1-.58,1.4L9.25,21ZM18.45,9,17,7.55Zm-12,3A5.31,5.31,0,0,0,4.9,8.1,5.31,5.31,0,0,0,1,6.5,5.31,5.31,0,0,0,4.9,4.9,5.31,5.31,0,0,0,6.5,1,5.31,5.31,0,0,0,8.1,4.9,5.31,5.31,0,0,0,12,6.5,5.46,5.46,0,0,0,6.5,12Z\"/>\n",
              "  </svg>\n",
              "    </button>\n",
              "    <script>\n",
              "      (() => {\n",
              "      const buttonEl =\n",
              "        document.querySelector('#id_4a1c5b75-41f4-4f07-a707-11e3d2a2ec23 button.colab-df-generate');\n",
              "      buttonEl.style.display =\n",
              "        google.colab.kernel.accessAllowed ? 'block' : 'none';\n",
              "\n",
              "      buttonEl.onclick = () => {\n",
              "        google.colab.notebook.generateWithVariable('df');\n",
              "      }\n",
              "      })();\n",
              "    </script>\n",
              "  </div>\n",
              "\n",
              "    </div>\n",
              "  </div>\n"
            ],
            "application/vnd.google.colaboratory.intrinsic+json": {
              "type": "dataframe",
              "variable_name": "df",
              "summary": "{\n  \"name\": \"df\",\n  \"rows\": 10,\n  \"fields\": [\n    {\n      \"column\": \"X\",\n      \"properties\": {\n        \"dtype\": \"number\",\n        \"std\": 2,\n        \"min\": 0,\n        \"max\": 7,\n        \"num_unique_values\": 6,\n        \"samples\": [\n          7,\n          2,\n          5\n        ],\n        \"semantic_type\": \"\",\n        \"description\": \"\"\n      }\n    },\n    {\n      \"column\": \"Y\",\n      \"properties\": {\n        \"dtype\": \"number\",\n        \"std\": 1,\n        \"min\": 0,\n        \"max\": 4,\n        \"num_unique_values\": 5,\n        \"samples\": [\n          2,\n          4,\n          0\n        ],\n        \"semantic_type\": \"\",\n        \"description\": \"\"\n      }\n    }\n  ]\n}"
            }
          },
          "metadata": {},
          "execution_count": 84
        }
      ]
    },
    {
      "cell_type": "markdown",
      "metadata": {
        "id": "NlP5Ud1FZ2jX"
      },
      "source": [
        "<font size=2>**30.** Consider the DataFrame constructed below which contains rows and columns of numerical data.\n",
        "\n",
        "<font size=2>Create a list of the column-row index locations of the 3 largest values in this DataFrame. In this case, the answer should be:\n",
        "```\n",
        "[(5, 7), (6, 4), (2, 5)]\n",
        "```"
      ]
    },
    {
      "cell_type": "code",
      "source": [
        "\"\"\"\n",
        "    * unstack :: (column, row)\n",
        "\"\"\"\n",
        "\n",
        "df = pd.DataFrame(np.random.RandomState(30).randint(1, 101, size=(8, 8)))\n",
        "df.unstack().sort_values()[-3:].index.tolist()"
      ],
      "metadata": {
        "colab": {
          "base_uri": "https://localhost:8080/"
        },
        "id": "ESIfh4-JabKU",
        "outputId": "25730c79-ae49-4c70-bd48-a6a8d17f46a1"
      },
      "execution_count": 429,
      "outputs": [
        {
          "output_type": "execute_result",
          "data": {
            "text/plain": [
              "[(5, 7), (6, 4), (2, 5)]"
            ]
          },
          "metadata": {},
          "execution_count": 429
        }
      ]
    },
    {
      "cell_type": "markdown",
      "metadata": {
        "id": "AC8QvDzpZ2jX"
      },
      "source": [
        "<font size=2>**31.** You are given the DataFrame below with a column of group IDs, 'grps', and a column of corresponding integer values, 'vals'.\n",
        "\n",
        "```python\n",
        "df = pd.DataFrame({\"vals\": np.random.RandomState(31).randint(-30, 30, size=15),\n",
        "                   \"grps\": np.random.RandomState(31).choice([\"A\", \"B\"], 15)})\n",
        "```\n",
        "\n",
        "<font size=2>Create a new column 'patched_values' which contains the same values as the 'vals' any negative values in 'vals' with the group mean:\n",
        "\n",
        "```\n",
        "    vals grps  patched_vals\n",
        "0    -12    A          13.6\n",
        "1     -7    B          28.0\n",
        "2    -14    A          13.6\n",
        "3      4    A           4.0\n",
        "4     -7    A          13.6\n",
        "5     28    B          28.0\n",
        "6     -2    A          13.6\n",
        "7     -1    A          13.6\n",
        "8      8    A           8.0\n",
        "9     -2    B          28.0\n",
        "10    28    A          28.0\n",
        "11    12    A          12.0\n",
        "12    16    A          16.0\n",
        "13   -24    A          13.6\n",
        "14   -12    A          13.6\n",
        "```"
      ]
    },
    {
      "cell_type": "code",
      "source": [
        "df = pd.DataFrame({\"vals\": np.random.RandomState(31).randint(-30, 30, size=15),\n",
        "                   \"grps\": np.random.RandomState(31).choice([\"A\", \"B\"], 15)})\n",
        "\n",
        "def replace(grp):\n",
        "    mask = grp < 0\n",
        "    grp[mask] = grp[~mask].mean()\n",
        "    return grp\n",
        "\n",
        "df.groupby('grps')['vals'].transform(replace)"
      ],
      "metadata": {
        "colab": {
          "base_uri": "https://localhost:8080/"
        },
        "id": "suG2shpbCuX3",
        "outputId": "65e75dc7-f352-4307-fa69-6da435ee9a0b"
      },
      "execution_count": 189,
      "outputs": [
        {
          "output_type": "execute_result",
          "data": {
            "text/plain": [
              "0     13.6\n",
              "1     28.0\n",
              "2     13.6\n",
              "3      4.0\n",
              "4     13.6\n",
              "5     28.0\n",
              "6     13.6\n",
              "7     13.6\n",
              "8      8.0\n",
              "9     28.0\n",
              "10    28.0\n",
              "11    12.0\n",
              "12    16.0\n",
              "13    13.6\n",
              "14    13.6\n",
              "Name: vals, dtype: float64"
            ]
          },
          "metadata": {},
          "execution_count": 189
        }
      ]
    },
    {
      "cell_type": "code",
      "execution_count": 184,
      "metadata": {
        "collapsed": true,
        "id": "KxM0eorzZ2jX",
        "colab": {
          "base_uri": "https://localhost:8080/"
        },
        "outputId": "79466566-0ea0-4c2c-875f-f1c5a5c32091"
      },
      "outputs": [
        {
          "output_type": "stream",
          "name": "stdout",
          "text": [
            "0     13.6\n",
            "1     28.0\n",
            "2     13.6\n",
            "3      4.0\n",
            "4     13.6\n",
            "5     28.0\n",
            "6     13.6\n",
            "7     13.6\n",
            "8      8.0\n",
            "9     28.0\n",
            "10    28.0\n",
            "11    12.0\n",
            "12    16.0\n",
            "13    13.6\n",
            "14    13.6\n",
            "Name: patched_values, dtype: float64\n"
          ]
        }
      ],
      "source": [
        "df = pd.DataFrame({\"vals\": np.random.RandomState(31).randint(-30, 30, size=15),\n",
        "                   \"grps\": np.random.RandomState(31).choice([\"A\", \"B\"], 15)})\n",
        "\n",
        "\n",
        "df['patched_values'], dic = df['vals'], dict(tuple(df.groupby(['grps', df['vals']>0])))\n",
        "for k, v in dic:\n",
        "    if not v: df.loc[dic[(k, v)].index,'patched_values'] = dic[(k, True)].vals.mean()\n",
        "\n",
        "print(df.iloc[:,-1])"
      ]
    },
    {
      "cell_type": "markdown",
      "metadata": {
        "id": "NEVB-kNrZ2jX"
      },
      "source": [
        "<font size=2>**32.** Implement a rolling mean over groups with window size 3, which ignores NaN value. For example consider the following DataFrame:\n",
        "\n",
        "```python\n",
        ">>> df = pd.DataFrame({'group': list('aabbabbbabab'),\n",
        "                       'value': [1, 2, 3, np.nan, 2, 3, np.nan, 1, 7, 3, np.nan, 8]})\n",
        ">>> df\n",
        "   group  value\n",
        "0      a    1.0\n",
        "1      a    2.0\n",
        "2      b    3.0\n",
        "3      b    NaN\n",
        "4      a    2.0\n",
        "5      b    3.0\n",
        "6      b    NaN\n",
        "7      b    1.0\n",
        "8      a    7.0\n",
        "9      b    3.0\n",
        "10     a    NaN\n",
        "11     b    8.0\n",
        "```\n",
        "<font size=2>The goal is to compute the Series:\n",
        "\n",
        "```\n",
        "0     1.000000\n",
        "1     1.500000\n",
        "2     3.000000\n",
        "3     3.000000\n",
        "4     1.666667\n",
        "5     3.000000\n",
        "6     3.000000\n",
        "7     2.000000\n",
        "8     3.666667\n",
        "9     2.000000\n",
        "10    4.500000\n",
        "11    4.000000\n",
        "```\n",
        "<font size=2>E.g. the first window of size three for group 'b' has values 3.0, NaN and 3.0 and occurs at row index 5. Instead of being NaN the value in the new column at this row index should be 3.0 (just the two non-NaN values are used to compute the mean (3+3)/2)"
      ]
    },
    {
      "cell_type": "code",
      "source": [
        "df = pd.DataFrame({'group': list('aabbabbbabab'),\n",
        "                   'value': [1, 2, 3, np.nan, 2, 3, np.nan, 1, 7, 3, np.nan, 8]})\n",
        "\n",
        "g1 = df.groupby(['group'])['value']\n",
        "g2 = df.fillna(0).groupby(['group'])['value']\n",
        "\n",
        "s = g2.rolling(window=3, min_periods=1).sum() / g1.rolling(window=3, min_periods=1).count()\n",
        "s.reset_index(level=0, drop=True).sort_index()"
      ],
      "metadata": {
        "colab": {
          "base_uri": "https://localhost:8080/"
        },
        "id": "SzmJAN0nGQHF",
        "outputId": "aeec55be-7194-4e08-ac00-17017324fd03"
      },
      "execution_count": 224,
      "outputs": [
        {
          "output_type": "execute_result",
          "data": {
            "text/plain": [
              "0     1.000000\n",
              "1     1.500000\n",
              "2     3.000000\n",
              "3     3.000000\n",
              "4     1.666667\n",
              "5     3.000000\n",
              "6     3.000000\n",
              "7     2.000000\n",
              "8     3.666667\n",
              "9     2.000000\n",
              "10    4.500000\n",
              "11    4.000000\n",
              "Name: value, dtype: float64"
            ]
          },
          "metadata": {},
          "execution_count": 224
        }
      ]
    },
    {
      "cell_type": "markdown",
      "metadata": {
        "id": "XOU0VXLAZ2jY"
      },
      "source": [
        "## Series and DatetimeIndex\n",
        "\n",
        "### Exercises for creating and manipulating Series with datetime data\n",
        "\n",
        "<font size=2>Difficulty: *easy/medium*\n",
        "\n",
        "<font size=2>pandas is fantastic for working with dates and times. These puzzles explore some of this functionality.\n"
      ]
    },
    {
      "cell_type": "markdown",
      "metadata": {
        "id": "g-4UWVapZ2jY"
      },
      "source": [
        "<font size=2>**33.** Create a DatetimeIndex that contains each business day of 2015 and use it to index a Series of random numbers. Let's call this Series `s`."
      ]
    },
    {
      "cell_type": "code",
      "execution_count": 228,
      "metadata": {
        "collapsed": true,
        "id": "k7iCsL_WZ2jY",
        "colab": {
          "base_uri": "https://localhost:8080/"
        },
        "outputId": "0e37a27c-5e74-48d1-8d72-80c05159e1ec"
      },
      "outputs": [
        {
          "output_type": "execute_result",
          "data": {
            "text/plain": [
              "2015-01-01    0.105654\n",
              "2015-01-02    0.447140\n",
              "2015-01-05    0.553643\n",
              "2015-01-06    0.047638\n",
              "2015-01-07    0.374676\n",
              "                ...   \n",
              "2015-12-15    0.918865\n",
              "2015-12-16    0.296622\n",
              "2015-12-17    0.220614\n",
              "2015-12-18    0.468877\n",
              "2015-12-21    0.657075\n",
              "Freq: B, Length: 253, dtype: float64"
            ]
          },
          "metadata": {},
          "execution_count": 228
        }
      ],
      "source": [
        "ti = pd.date_range('2015-01-01','2015-12-21', freq='B')\n",
        "s = pd.Series(np.random.rand(len(ti)), index=ti)\n",
        "s"
      ]
    },
    {
      "cell_type": "markdown",
      "metadata": {
        "id": "VOZ1CfwPZ2jY"
      },
      "source": [
        "<font size=2>**34.** Find the sum of the values in `s` for every Wednesday."
      ]
    },
    {
      "cell_type": "code",
      "execution_count": 234,
      "metadata": {
        "collapsed": true,
        "id": "AtMpAyisZ2jY",
        "colab": {
          "base_uri": "https://localhost:8080/"
        },
        "outputId": "43a927ea-88c1-4ab2-84ef-0a70c0ab51d0"
      },
      "outputs": [
        {
          "output_type": "execute_result",
          "data": {
            "text/plain": [
              "23.421695537548885"
            ]
          },
          "metadata": {},
          "execution_count": 234
        }
      ],
      "source": [
        "s[s.index.weekday == 2].sum() # 수"
      ]
    },
    {
      "cell_type": "markdown",
      "metadata": {
        "id": "vFdgI8RjZ2jY"
      },
      "source": [
        "<font size=2>**35.** For each calendar month in `s`, find the mean of values."
      ]
    },
    {
      "cell_type": "code",
      "execution_count": 236,
      "metadata": {
        "collapsed": true,
        "id": "GrogzYLMZ2jY",
        "colab": {
          "base_uri": "https://localhost:8080/"
        },
        "outputId": "b44052fa-92a5-4af1-a9cc-5a032851d2ea"
      },
      "outputs": [
        {
          "output_type": "execute_result",
          "data": {
            "text/plain": [
              "2015-01-31    0.473895\n",
              "2015-02-28    0.563322\n",
              "2015-03-31    0.524066\n",
              "2015-04-30    0.530435\n",
              "2015-05-31    0.490987\n",
              "2015-06-30    0.508599\n",
              "2015-07-31    0.433442\n",
              "2015-08-31    0.486567\n",
              "2015-09-30    0.481894\n",
              "2015-10-31    0.490479\n",
              "2015-11-30    0.583549\n",
              "2015-12-31    0.524421\n",
              "Freq: M, dtype: float64"
            ]
          },
          "metadata": {},
          "execution_count": 236
        }
      ],
      "source": [
        "s.resample('M').mean()"
      ]
    },
    {
      "cell_type": "markdown",
      "metadata": {
        "id": "F-4yWv-7Z2jY"
      },
      "source": [
        "<font size=2>**36.** For each group of four consecutive calendar months in `s`, find the date on which the highest value occurred."
      ]
    },
    {
      "cell_type": "code",
      "execution_count": 241,
      "metadata": {
        "collapsed": true,
        "id": "sH91Pxa5Z2jY",
        "colab": {
          "base_uri": "https://localhost:8080/"
        },
        "outputId": "54d482a8-e140-4d37-ab4e-7e0e0b1e4319"
      },
      "outputs": [
        {
          "output_type": "execute_result",
          "data": {
            "text/plain": [
              "2015-01-31   2015-01-22\n",
              "2015-05-31   2015-02-16\n",
              "2015-09-30   2015-08-11\n",
              "2016-01-31   2015-11-16\n",
              "Freq: 4M, dtype: datetime64[ns]"
            ]
          },
          "metadata": {},
          "execution_count": 241
        }
      ],
      "source": [
        "s.groupby(pd.Grouper(freq='4M')).idxmax()"
      ]
    },
    {
      "cell_type": "markdown",
      "metadata": {
        "id": "w2h8_LfVZ2jY"
      },
      "source": [
        "<font size=2>**37.** Create a DateTimeIndex consisting of the third Thursday in each month for the years 2015 and 2016."
      ]
    },
    {
      "cell_type": "code",
      "execution_count": 242,
      "metadata": {
        "collapsed": true,
        "id": "HFeuhO0DZ2jZ",
        "colab": {
          "base_uri": "https://localhost:8080/"
        },
        "outputId": "00b6a67a-6533-4b65-f4de-6fd051ca1213"
      },
      "outputs": [
        {
          "output_type": "execute_result",
          "data": {
            "text/plain": [
              "DatetimeIndex(['2015-01-15', '2015-02-19', '2015-03-19', '2015-04-16',\n",
              "               '2015-05-21', '2015-06-18', '2015-07-16', '2015-08-20',\n",
              "               '2015-09-17', '2015-10-15', '2015-11-19', '2015-12-17',\n",
              "               '2016-01-21', '2016-02-18', '2016-03-17', '2016-04-21',\n",
              "               '2016-05-19', '2016-06-16', '2016-07-21', '2016-08-18',\n",
              "               '2016-09-15', '2016-10-20', '2016-11-17', '2016-12-15'],\n",
              "              dtype='datetime64[ns]', freq='WOM-3THU')"
            ]
          },
          "metadata": {},
          "execution_count": 242
        }
      ],
      "source": [
        "pd.date_range('2015-01-01', '2016-12-31', freq='WOM-3THU')"
      ]
    },
    {
      "cell_type": "markdown",
      "metadata": {
        "id": "yNKAzrZVZ2jZ"
      },
      "source": [
        "## Cleaning Data\n",
        "\n",
        "### Making a DataFrame easier to work with\n",
        "\n",
        "<font size=2>Difficulty: *easy/medium*\n",
        "\n",
        "<font size=2>It happens all the time: someone gives you data containing malformed strings, Python, lists and missing data. How do you tidy it up so you can get on with the analysis?\n",
        "\n",
        "<font size=2>Take this monstrosity as the DataFrame to use in the following puzzles:\n",
        "\n",
        "```python\n",
        "df = pd.DataFrame({'From_To': ['LoNDon_paris', 'MAdrid_miLAN', 'londON_StockhOlm',\n",
        "                               'Budapest_PaRis', 'Brussels_londOn'],\n",
        "              'FlightNumber': [10045, np.nan, 10065, np.nan, 10085],\n",
        "              'RecentDelays': [[23, 47], [], [24, 43, 87], [13], [67, 32]],\n",
        "                   'Airline': ['KLM(!)', '<Air France> (12)', '(British Airways. )',\n",
        "                               '12. Air France', '\"Swiss Air\"']})\n",
        "```\n",
        "<font size=2>Formatted, it looks like this:\n",
        "\n",
        "```\n",
        "            From_To  FlightNumber  RecentDelays              Airline\n",
        "0      LoNDon_paris       10045.0      [23, 47]               KLM(!)\n",
        "1      MAdrid_miLAN           NaN            []    <Air France> (12)\n",
        "2  londON_StockhOlm       10065.0  [24, 43, 87]  (British Airways. )\n",
        "3    Budapest_PaRis           NaN          [13]       12. Air France\n",
        "4   Brussels_londOn       10085.0      [67, 32]          \"Swiss Air\"\n",
        "```\n",
        "\n",
        "\n",
        "<font size=2>(It's some flight data I made up; it's not meant to be accurate in any way.)\n"
      ]
    },
    {
      "cell_type": "markdown",
      "metadata": {
        "id": "CgvxstESZ2jZ"
      },
      "source": [
        "<font size=2>**38.** Some values in the the **FlightNumber** column are missing (they are `NaN`). These numbers are meant to increase by 10 with each row so 10055 and 10075 need to be put in place. Modify `df` to fill in these missing numbers and make the column an integer column (instead of a float column)."
      ]
    },
    {
      "cell_type": "code",
      "execution_count": null,
      "metadata": {
        "collapsed": true,
        "id": "3tt9-VReZ2jZ"
      },
      "outputs": [],
      "source": []
    },
    {
      "cell_type": "markdown",
      "metadata": {
        "id": "ywzHNBfvZ2jZ"
      },
      "source": [
        "<font size=2>**39.** The **From\\_To** column would be better as two separate columns! Split each string on the underscore delimiter `_` to give a new temporary DataFrame called 'temp' with the correct values. Assign the correct column names 'From' and 'To' to this temporary DataFrame."
      ]
    },
    {
      "cell_type": "code",
      "execution_count": null,
      "metadata": {
        "collapsed": true,
        "id": "AAj5S2ZRZ2jZ"
      },
      "outputs": [],
      "source": []
    },
    {
      "cell_type": "markdown",
      "metadata": {
        "id": "DOS4--4sZ2jZ"
      },
      "source": [
        "<font size=2>**40.** Notice how the capitalisation of the city names is all mixed up in this temporary DataFrame 'temp'. Standardise the strings so that only the first letter is uppercase (e.g. \"londON\" should become \"London\".)"
      ]
    },
    {
      "cell_type": "code",
      "execution_count": null,
      "metadata": {
        "collapsed": true,
        "id": "EUg03d_TZ2jZ"
      },
      "outputs": [],
      "source": []
    },
    {
      "cell_type": "markdown",
      "metadata": {
        "id": "eNOyL_K4Z2jZ"
      },
      "source": [
        "<font size=2>**41.** Delete the **From_To** column from `df` and attach the temporary DataFrame 'temp' from the previous questions."
      ]
    },
    {
      "cell_type": "code",
      "execution_count": null,
      "metadata": {
        "collapsed": true,
        "id": "lpXsCi5jZ2jZ"
      },
      "outputs": [],
      "source": []
    },
    {
      "cell_type": "markdown",
      "metadata": {
        "id": "yTY3sCaoZ2jZ"
      },
      "source": [
        "<font size=2>**42**. In the **Airline** column, you can see some extra puctuation and symbols have appeared around the airline names. Pull out just the airline name. E.g. `'(British Airways. )'` should become `'British Airways'`."
      ]
    },
    {
      "cell_type": "code",
      "execution_count": null,
      "metadata": {
        "collapsed": true,
        "id": "0WiLuskpZ2jZ"
      },
      "outputs": [],
      "source": []
    },
    {
      "cell_type": "markdown",
      "metadata": {
        "id": "yAdiOe_1Z2jZ"
      },
      "source": [
        "<font size=2>**43**. In the RecentDelays column, the values have been entered into the DataFrame as a list. We would like each first value in its own column, each second value in its own column, and so on. If there isn't an Nth value, the value should be NaN.\n",
        "\n",
        "<font size=2>Expand the Series of lists into a DataFrame named `delays`, rename the columns `delay_1`, `delay_2`, etc. and replace the unwanted RecentDelays column in `df` with `delays`."
      ]
    },
    {
      "cell_type": "code",
      "execution_count": null,
      "metadata": {
        "collapsed": true,
        "id": "xX9KlwUqZ2jZ"
      },
      "outputs": [],
      "source": []
    },
    {
      "cell_type": "markdown",
      "metadata": {
        "id": "fWTVgEHBZ2jZ"
      },
      "source": [
        "<font size=2>The DataFrame should look much better now.\n",
        "```\n",
        "   FlightNumber          Airline      From         To  delay_1  delay_2  delay_3\n",
        "0         10045              KLM    London      Paris     23.0     47.0      NaN\n",
        "1         10055       Air France    Madrid      Milan      NaN      NaN      NaN\n",
        "2         10065  British Airways    London  Stockholm     24.0     43.0     87.0\n",
        "3         10075       Air France  Budapest      Paris     13.0      NaN      NaN\n",
        "4         10085        Swiss Air  Brussels     London     67.0     32.0      NaN\n",
        "```"
      ]
    },
    {
      "cell_type": "markdown",
      "metadata": {
        "collapsed": true,
        "id": "DWFxUnFlZ2ja"
      },
      "source": [
        "## Using MultiIndexes\n",
        "\n",
        "### Go beyond flat DataFrames with additional index levels\n",
        "\n",
        "<font size=2>Difficulty: *medium*\n",
        "\n",
        "<font size=2>Previous exercises have seen us analysing data from DataFrames equipped with a single index level. However, pandas also gives you the possibilty of indexing your data using *multiple* levels. This is very much like adding new dimensions to a Series or a DataFrame. For example, a Series is 1D, but by using a MultiIndex with 2 levels we gain of much the same functionality as a 2D DataFrame.\n",
        "\n",
        "<font size=2>The set of puzzles below explores how you might use multiple index levels to enhance data analysis.\n",
        "\n",
        "<font size=2>To warm up, we'll look make a Series with two index levels."
      ]
    },
    {
      "cell_type": "markdown",
      "metadata": {
        "id": "IOszuZV1Z2ja"
      },
      "source": [
        "<font size=2>**44**. Given the lists `letters = ['A', 'B', 'C']` and `numbers = list(range(10))`, construct a MultiIndex object from the product of the two lists. Use it to index a Series of random numbers. Call this Series `s`."
      ]
    },
    {
      "cell_type": "code",
      "execution_count": null,
      "metadata": {
        "collapsed": true,
        "id": "q0YX27pMZ2ja"
      },
      "outputs": [],
      "source": []
    },
    {
      "cell_type": "markdown",
      "metadata": {
        "id": "4C2GWEmVZ2ja"
      },
      "source": [
        "<font size=2>**45.** Check the index of `s` is lexicographically sorted (this is a necessary proprty for indexing to work correctly with a MultiIndex)."
      ]
    },
    {
      "cell_type": "code",
      "execution_count": null,
      "metadata": {
        "collapsed": true,
        "id": "f_30oLV9Z2ja"
      },
      "outputs": [],
      "source": []
    },
    {
      "cell_type": "markdown",
      "metadata": {
        "id": "Vl1bDgUxZ2ja"
      },
      "source": [
        "<font size=2>**46**. Select the labels `1`, `3` and `6` from the second level of the MultiIndexed Series."
      ]
    },
    {
      "cell_type": "code",
      "execution_count": null,
      "metadata": {
        "collapsed": true,
        "id": "ZolUG3dxZ2ja"
      },
      "outputs": [],
      "source": []
    },
    {
      "cell_type": "markdown",
      "metadata": {
        "id": "cNyNxPJ7Z2ja"
      },
      "source": [
        "<font size=2>**47**. Slice the Series `s`; slice up to label 'B' for the first level and from label 5 onwards for the second level."
      ]
    },
    {
      "cell_type": "code",
      "execution_count": null,
      "metadata": {
        "collapsed": true,
        "id": "hIS0ZC9EZ2ja"
      },
      "outputs": [],
      "source": []
    },
    {
      "cell_type": "markdown",
      "metadata": {
        "id": "5f_4ngZbZ2ja"
      },
      "source": [
        "<font size=2>**48**. Sum the values in `s` for each label in the first level (you should have Series giving you a total for labels A, B and C)."
      ]
    },
    {
      "cell_type": "code",
      "execution_count": null,
      "metadata": {
        "collapsed": true,
        "id": "U7H6ZPFlZ2ja"
      },
      "outputs": [],
      "source": []
    },
    {
      "cell_type": "markdown",
      "metadata": {
        "id": "xyGLEh9VZ2ja"
      },
      "source": [
        "<font size=2>**49**. Suppose that `sum()` (and other methods) did not accept a `level` keyword argument. How else could you perform the equivalent of `s.sum(level=1)`?"
      ]
    },
    {
      "cell_type": "code",
      "execution_count": null,
      "metadata": {
        "collapsed": true,
        "id": "nEMPfIiSZ2ja"
      },
      "outputs": [],
      "source": []
    },
    {
      "cell_type": "markdown",
      "metadata": {
        "id": "iGBqH4hfZ2ja"
      },
      "source": [
        "<font size=2>**50**. Exchange the levels of the MultiIndex so we have an index of the form (letters, numbers). Is this new Series properly lexsorted? If not, sort it."
      ]
    },
    {
      "cell_type": "code",
      "execution_count": null,
      "metadata": {
        "id": "SwzPh_QWZ2ja"
      },
      "outputs": [],
      "source": []
    },
    {
      "cell_type": "markdown",
      "metadata": {
        "id": "ZgSV7e91Z2jb"
      },
      "source": [
        "## Minesweeper\n",
        "\n",
        "### Generate the numbers for safe squares in a Minesweeper grid\n",
        "\n",
        "<font size=2>Difficulty: *medium* to *hard*\n",
        "\n",
        "<font size=2>If you've ever used an older version of Windows, there's a good chance you've played with Minesweeper:\n",
        "\n",
        "<font size=2>- https://en.wikipedia.org/wiki/Minesweeper_(video_game)\n",
        "\n",
        "\n",
        "<font size=2>If you're not familiar with the game, imagine a grid of squares: some of these squares conceal a mine. If you click on a mine, you lose instantly. If you click on a safe square, you reveal a number telling you how many mines are found in the squares that are immediately adjacent. The aim of the game is to uncover all squares in the grid that do not contain a mine.\n",
        "\n",
        "<font size=2>In this section, we'll make a DataFrame that contains the necessary data for a game of Minesweeper: coordinates of the squares, whether the square contains a mine and the number of mines found on adjacent squares."
      ]
    },
    {
      "cell_type": "markdown",
      "metadata": {
        "id": "cfVS_zAWZ2jb"
      },
      "source": [
        "<font size=2>**51**. Let's suppose we're playing Minesweeper on a 5 by 4 grid, i.e.\n",
        "```\n",
        "X = 5\n",
        "Y = 4\n",
        "```\n",
        "<font size=2>To begin, generate a DataFrame `df` with two columns, `'x'` and `'y'` containing every coordinate for this grid. That is, the DataFrame should start:\n",
        "```\n",
        "   x  y\n",
        "0  0  0\n",
        "1  0  1\n",
        "2  0  2\n",
        "```"
      ]
    },
    {
      "cell_type": "code",
      "execution_count": null,
      "metadata": {
        "collapsed": true,
        "id": "C5KfMwI_Z2jb"
      },
      "outputs": [],
      "source": []
    },
    {
      "cell_type": "markdown",
      "metadata": {
        "id": "glhqwSSNZ2jb"
      },
      "source": [
        "<font size=2>**52**. For this DataFrame `df`, create a new column of zeros (safe) and ones (mine). The probability of a mine occuring at each location should be 0.4."
      ]
    },
    {
      "cell_type": "code",
      "execution_count": null,
      "metadata": {
        "collapsed": true,
        "id": "punn66lpZ2jb"
      },
      "outputs": [],
      "source": []
    },
    {
      "cell_type": "markdown",
      "metadata": {
        "id": "uwmz4sj-Z2jb"
      },
      "source": [
        "<font size=2>**53**. Now create a new column for this DataFrame called `'adjacent'`. This column should contain the number of mines found on adjacent squares in the grid.\n",
        "\n",
        "<font size=2>(E.g. for the first row, which is the entry for the coordinate `(0, 0)`, count how many mines are found on the coordinates `(0, 1)`, `(1, 0)` and `(1, 1)`.)"
      ]
    },
    {
      "cell_type": "code",
      "execution_count": null,
      "metadata": {
        "collapsed": true,
        "id": "JYW8fm-bZ2jb"
      },
      "outputs": [],
      "source": []
    },
    {
      "cell_type": "markdown",
      "metadata": {
        "id": "9yK5DUeRZ2jb"
      },
      "source": [
        "<font size=2>**54**. For rows of the DataFrame that contain a mine, set the value in the `'adjacent'` column to NaN."
      ]
    },
    {
      "cell_type": "code",
      "execution_count": null,
      "metadata": {
        "collapsed": true,
        "id": "yJjhFm3gZ2jb"
      },
      "outputs": [],
      "source": []
    },
    {
      "cell_type": "markdown",
      "metadata": {
        "id": "ORTyXcWPZ2jb"
      },
      "source": [
        "<font size=2>**55**. Finally, convert the DataFrame to grid of the adjacent mine counts: columns are the `x` coordinate, rows are the `y` coordinate."
      ]
    },
    {
      "cell_type": "code",
      "execution_count": null,
      "metadata": {
        "collapsed": true,
        "id": "RzFs3fUpZ2jb"
      },
      "outputs": [],
      "source": []
    },
    {
      "cell_type": "markdown",
      "metadata": {
        "id": "Xx_ZlKdaZ2jb"
      },
      "source": [
        "## Plotting\n",
        "\n",
        "### Visualize trends and patterns in data\n",
        "\n",
        "<font size=2>Difficulty: *medium*\n",
        "\n",
        "<font size=2>To really get a good understanding of the data contained in your DataFrame, it is often essential to create plots: if you're lucky, trends and anomalies will jump right out at you. This functionality is baked into pandas and the puzzles below explore some of what's possible with the library.\n",
        "\n",
        "<font size=2>**56.** Pandas is highly integrated with the plotting library matplotlib, and makes plotting DataFrames very user-friendly! Plotting in a notebook environment usually makes use of the following boilerplate:\n",
        "\n",
        "```python\n",
        "import matplotlib.pyplot as plt\n",
        "%matplotlib inline\n",
        "plt.style.use('ggplot')\n",
        "```\n",
        "\n",
        "<font size=2>matplotlib is the plotting library which pandas' plotting functionality is built upon, and it is usually aliased to ```plt```.\n",
        "\n",
        "```%matplotlib inline``` tells the notebook to show plots inline, instead of creating them in a separate window.  \n",
        "\n",
        "```plt.style.use('ggplot')``` is a style theme that most people find agreeable, based upon the styling of R's ggplot package.\n",
        "\n",
        "<font size=2>For starters, make a scatter plot of this random data, but use black X's instead of the default markers.\n",
        "\n",
        "```df = pd.DataFrame({\"xs\":[1,5,2,8,1], \"ys\":[4,2,1,9,6]})```\n",
        "\n",
        "<font size=2>Consult the [documentation](https://pandas.pydata.org/pandas-docs/stable/generated/pandas.DataFrame.plot.html) if you get stuck!"
      ]
    },
    {
      "cell_type": "code",
      "execution_count": null,
      "metadata": {
        "collapsed": true,
        "id": "uVN2hHBbZ2jb"
      },
      "outputs": [],
      "source": []
    },
    {
      "cell_type": "markdown",
      "metadata": {
        "id": "kuLJTLcaZ2jb"
      },
      "source": [
        "<font size=2>**57.** Columns in your DataFrame can also be used to modify colors and sizes.  Bill has been keeping track of his performance at work over time, as well as how good he was feeling that day, and whether he had a cup of coffee in the morning.  Make a plot which incorporates all four features of this DataFrame.\n",
        "\n",
        "<font size=2>(Hint:  If you're having trouble seeing the plot, try multiplying the Series which you choose to represent size by 10 or more)\n",
        "\n",
        "<font size=2>*The chart doesn't have to be pretty: this isn't a course in data viz!*\n",
        "\n",
        "```\n",
        "df = pd.DataFrame({\"productivity\":[5,2,3,1,4,5,6,7,8,3,4,8,9],\n",
        "                   \"hours_in\"    :[1,9,6,5,3,9,2,9,1,7,4,2,2],\n",
        "                   \"happiness\"   :[2,1,3,2,3,1,2,3,1,2,2,1,3],\n",
        "                   \"caffienated\" :[0,0,1,1,0,0,0,0,1,1,0,1,0]})\n",
        "```"
      ]
    },
    {
      "cell_type": "code",
      "execution_count": null,
      "metadata": {
        "collapsed": true,
        "id": "KVx-1k_3Z2jc"
      },
      "outputs": [],
      "source": []
    },
    {
      "cell_type": "markdown",
      "metadata": {
        "id": "FCq6kGQmZ2jc"
      },
      "source": [
        "<font size=2>**58.**  What if we want to plot multiple things?  Pandas allows you to pass in a matplotlib *Axis* object for plots, and plots will also return an Axis object.\n",
        "\n",
        "<font size=2>Make a bar plot of monthly revenue with a line plot of monthly advertising spending (numbers in millions)\n",
        "\n",
        "```\n",
        "df = pd.DataFrame({\"revenue\":[57,68,63,71,72,90,80,62,59,51,47,52],\n",
        "                   \"advertising\":[2.1,1.9,2.7,3.0,3.6,3.2,2.7,2.4,1.8,1.6,1.3,1.9],\n",
        "                   \"month\":range(12)\n",
        "                  })\n",
        "```"
      ]
    },
    {
      "cell_type": "code",
      "execution_count": null,
      "metadata": {
        "collapsed": true,
        "id": "dlrqTqIaZ2jc"
      },
      "outputs": [],
      "source": []
    },
    {
      "cell_type": "markdown",
      "metadata": {
        "id": "il4izOkJZ2jc"
      },
      "source": [
        "<font size=2>Now we're finally ready to create a candlestick chart, which is a very common tool used to analyze stock price data.  A candlestick chart shows the opening, closing, highest, and lowest price for a stock during a time window.  The color of the \"candle\" (the thick part of the bar) is green if the stock closed above its opening price, or red if below.\n",
        "\n",
        "<center><img src = \"//raw.githubusercontent.com/ajcr/100-pandas-puzzles/457b15f1efc127c6df5171bae34332838a9ffcb0//img/candle.jpg\" width=400></cnnter>\n",
        "\n",
        "<font size=2>This was initially designed to be a pandas plotting challenge, but it just so happens that this type of plot is just not feasible using pandas' methods.  If you are unfamiliar with matplotlib, we have provided a function that will plot the chart for you so long as you can use pandas to get the data into the correct format.\n",
        "\n",
        "<font size=2>Your first step should be to get the data in the correct format using pandas' time-series grouping function.  We would like each candle to represent an hour's worth of data.  You can write your own aggregation function which returns the open/high/low/close, but pandas has a built-in which also does this."
      ]
    },
    {
      "cell_type": "markdown",
      "metadata": {
        "id": "b2Og9ODOZ2jc"
      },
      "source": [
        "<font size=2>The below cell contains helper functions.  Call ```day_stock_data()``` to generate a DataFrame containing the prices a hypothetical stock sold for, and the time the sale occurred.  Call ```plot_candlestick(df)``` on your properly aggregated and formatted stock data to print the candlestick chart."
      ]
    },
    {
      "cell_type": "code",
      "execution_count": null,
      "metadata": {
        "collapsed": true,
        "id": "ciUX9xatZ2jc"
      },
      "outputs": [],
      "source": [
        "import numpy as np\n",
        "def float_to_time(x):\n",
        "    return str(int(x)) + \":\" + str(int(x%1 * 60)).zfill(2) + \":\" + str(int(x*60 % 1 * 60)).zfill(2)\n",
        "\n",
        "def day_stock_data():\n",
        "    #NYSE is open from 9:30 to 4:00\n",
        "    time = 9.5\n",
        "    price = 100\n",
        "    results = [(float_to_time(time), price)]\n",
        "    while time < 16:\n",
        "        elapsed = np.random.exponential(.001)\n",
        "        time += elapsed\n",
        "        if time > 16:\n",
        "            break\n",
        "        price_diff = np.random.uniform(.999, 1.001)\n",
        "        price *= price_diff\n",
        "        results.append((float_to_time(time), price))\n",
        "\n",
        "\n",
        "    df = pd.DataFrame(results, columns = ['time','price'])\n",
        "    df.time = pd.to_datetime(df.time)\n",
        "    return df\n",
        "\n",
        "#Don't read me unless you get stuck!\n",
        "def plot_candlestick(agg):\n",
        "    \"\"\"\n",
        "    agg is a DataFrame which has a DatetimeIndex and five columns: [\"open\",\"high\",\"low\",\"close\",\"color\"]\n",
        "    \"\"\"\n",
        "    fig, ax = plt.subplots()\n",
        "    for time in agg.index:\n",
        "        ax.plot([time.hour] * 2, agg.loc[time, [\"high\",\"low\"]].values, color = \"black\")\n",
        "        ax.plot([time.hour] * 2, agg.loc[time, [\"open\",\"close\"]].values, color = agg.loc[time, \"color\"], linewidth = 10)\n",
        "\n",
        "    ax.set_xlim((8,16))\n",
        "    ax.set_ylabel(\"Price\")\n",
        "    ax.set_xlabel(\"Hour\")\n",
        "    ax.set_title(\"OHLC of Stock Value During Trading Day\")\n",
        "    plt.show()"
      ]
    },
    {
      "cell_type": "markdown",
      "metadata": {
        "id": "292fzrAQZ2jc"
      },
      "source": [
        "<font size=2>**59.** Generate a day's worth of random stock data, and aggregate / reformat it so that it has hourly summaries of the opening, highest, lowest, and closing prices"
      ]
    },
    {
      "cell_type": "code",
      "execution_count": null,
      "metadata": {
        "collapsed": true,
        "id": "3Pik5gEEZ2jc"
      },
      "outputs": [],
      "source": []
    },
    {
      "cell_type": "markdown",
      "metadata": {
        "id": "rRcczKgTZ2jc"
      },
      "source": [
        "<font size=2>**60.** Now that you have your properly-formatted data, try to plot it yourself as a candlestick chart.  Use the ```plot_candlestick(df)``` function above, or matplotlib's [```plot``` documentation](https://matplotlib.org/api/_as_gen/matplotlib.axes.Axes.plot.html) if you get stuck."
      ]
    },
    {
      "cell_type": "code",
      "execution_count": null,
      "metadata": {
        "collapsed": true,
        "id": "jYQAQzLlZ2jc"
      },
      "outputs": [],
      "source": []
    },
    {
      "cell_type": "markdown",
      "metadata": {
        "id": "0aks9qHsZ2jc"
      },
      "source": [
        "*More exercises to follow soon...*"
      ]
    }
  ],
  "metadata": {
    "kernelspec": {
      "display_name": "Python 3",
      "language": "python",
      "name": "python3"
    },
    "language_info": {
      "codemirror_mode": {
        "name": "ipython",
        "version": 3
      },
      "file_extension": ".py",
      "mimetype": "text/x-python",
      "name": "python",
      "nbconvert_exporter": "python",
      "pygments_lexer": "ipython3",
      "version": "3.7.4"
    },
    "colab": {
      "provenance": [],
      "include_colab_link": true
    }
  },
  "nbformat": 4,
  "nbformat_minor": 0
}